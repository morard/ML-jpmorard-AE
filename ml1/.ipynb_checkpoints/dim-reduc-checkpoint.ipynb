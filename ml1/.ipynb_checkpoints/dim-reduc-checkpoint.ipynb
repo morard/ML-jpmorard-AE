{
 "cells": [
  {
   "cell_type": "markdown",
   "metadata": {
    "pycharm": {
     "name": "#%% md\n"
    }
   },
   "source": [
    " # __[Dimension Reduction](https://medium.com/accel-ai/machine-learning-algorithms-cheat-sheet-990104aaaabc)__   -  Jean-Pierre Morard  -  V1.0.1 \n",
    "\n",
    "1- PCA ScikitLearn __[PCA](https://www.cs.cmu.edu/~elaw/papers/pca.pdf)__ <br>\n",
    "2- Autoencoder PYTORCH Ligthning<br>\n",
    "3- Autoencoder KERAS Tensorflow <br>\n",
    "4- Prédictions <br>\n",
    "5- Visualisation Seaborn <br>\n",
    "7- __[SVD](https://www.youtube.com/watch?v=gXbThCXjZFM)__ __[Reza Bagheri Lab](https://github.com/reza-bagheri/SVD_article/blob/master/SVD-note-book.ipynb)__ <br>\n",
    "\n",
    "[<img align=\"left\" src=\"doc/Dim-Reduc-Alternatives.png\" title=\"towardsdatascience.com\" width=\"250\"/>](https://towardsdatascience.com/dimensionality-reduction-cheatsheet-15060fee3aa)\n",
    "[<img align=\"left\" src=\"doc/Fraction-of-Papers-Using-PyTorch-vs.-TensorFlow.png\" title=\"www.assemblyai.com\" width=\"350\"/>](https://www.assemblyai.com/blog/pytorch-vs-tensorflow-in-2022/)<br>\n",
    "[<img align=\"left\" src=\"doc/colab-badge.png\" title=\"\" width=\"80\"/>](https://colab.research.google.com/github/morard/abyx/blob/main/ml1/dim-reduc.ipynb)<br>\n",
    "[<img align=\"left\" src=\"doc/badge_logo.png\" title=\"\" width=\"80\"/>](https://mybinder.org/v2/gh/morard/abyx/HEAD?labpath=ml1%2Fdim-reduc.ipynb)<br>\n",
    "[<img align=\"left\" src=\"doc/winpython.png\" title=\"\" width=\"80\"/>](http://l.sourceforge.net/f/a/39FiVm9LfkUWRzvQpamCdw~~/AABcDgA~/RgRkWPe2P0R9aHR0cHM6Ly9zb3VyY2Vmb3JnZS5uZXQvcHJvamVjdHMvd2lucHl0aG9uL2ZpbGVzL2xhdGVzdC9kb3dubG9hZD91dG1fY2FtcGFpZ249dXBkYXRlciZ1dG1fbWVkaXVtPWVtYWlsJnV0bV9zb3VyY2U9c3Vic2NyaWJlcnNXA3NwY0IKYnE2xHdiT7g-xlIcamVhbi5waWVycmUubW9yYXJkQGdtYWlsLmNvbVgEAAAAAQ~~)"
   ]
  },
  {
   "cell_type": "markdown",
   "metadata": {
    "pycharm": {
     "name": "#%% md\n"
    }
   },
   "source": [
    "## 1 - PCA with Sci-Kit-Learn"
   ]
  },
  {
   "cell_type": "markdown",
   "metadata": {
    "pycharm": {
     "name": "#%% md\n"
    }
   },
   "source": [
    "![alt text](doc/pca.png \"PCA\") \n",
    "<br> __[Source: Shervine Amidi - Stanford- Machine Learning cs-229](https://stanford.edu/~shervine/teaching/cs-229/)__ <br>"
   ]
  },
  {
   "cell_type": "code",
   "execution_count": 1,
   "metadata": {
    "pycharm": {
     "is_executing": true,
     "name": "#%%\n"
    }
   },
   "outputs": [
    {
     "name": "stderr",
     "output_type": "stream",
     "text": [
      "WARNING: Ignoring invalid distribution -rotobuf (d:\\venv\\lib\\site-packages)\n",
      "WARNING: Ignoring invalid distribution -ip (d:\\venv\\lib\\site-packages)\n",
      "WARNING: Ignoring invalid distribution -rotobuf (d:\\venv\\lib\\site-packages)\n",
      "WARNING: Ignoring invalid distribution -ip (d:\\venv\\lib\\site-packages)\n",
      "WARNING: Ignoring invalid distribution -rotobuf (d:\\venv\\lib\\site-packages)\n",
      "WARNING: Ignoring invalid distribution -ip (d:\\venv\\lib\\site-packages)\n",
      "WARNING: Ignoring invalid distribution -rotobuf (d:\\venv\\lib\\site-packages)\n",
      "WARNING: Ignoring invalid distribution -ip (d:\\venv\\lib\\site-packages)\n",
      "WARNING: Ignoring invalid distribution -rotobuf (d:\\venv\\lib\\site-packages)\n",
      "WARNING: Ignoring invalid distribution -ip (d:\\venv\\lib\\site-packages)\n",
      "WARNING: Ignoring invalid distribution -rotobuf (d:\\venv\\lib\\site-packages)\n",
      "WARNING: Ignoring invalid distribution -ip (d:\\venv\\lib\\site-packages)\n"
     ]
    }
   ],
   "source": [
    "# with binder\n",
    "!pip install --upgrade -q  pip matplotlib pandas seaborn sklearn tensorflow_addons torch"
   ]
  },
  {
   "cell_type": "code",
   "execution_count": 2,
   "metadata": {
    "pycharm": {
     "name": "#%%\n"
    }
   },
   "outputs": [
    {
     "data": {
      "text/html": [
       "<div>\n",
       "<style scoped>\n",
       "    .dataframe tbody tr th:only-of-type {\n",
       "        vertical-align: middle;\n",
       "    }\n",
       "\n",
       "    .dataframe tbody tr th {\n",
       "        vertical-align: top;\n",
       "    }\n",
       "\n",
       "    .dataframe thead tr th {\n",
       "        text-align: left;\n",
       "    }\n",
       "</style>\n",
       "<table border=\"1\" class=\"dataframe\">\n",
       "  <thead>\n",
       "    <tr>\n",
       "      <th></th>\n",
       "      <th colspan=\"3\" halign=\"left\">A</th>\n",
       "      <th colspan=\"3\" halign=\"left\">B</th>\n",
       "      <th>C1</th>\n",
       "      <th>C2</th>\n",
       "      <th>D</th>\n",
       "      <th colspan=\"2\" halign=\"left\">AC</th>\n",
       "      <th colspan=\"2\" halign=\"left\">BC</th>\n",
       "    </tr>\n",
       "    <tr>\n",
       "      <th></th>\n",
       "      <th>x</th>\n",
       "      <th>y</th>\n",
       "      <th>z</th>\n",
       "      <th>x</th>\n",
       "      <th>y</th>\n",
       "      <th>z</th>\n",
       "      <th>AxB</th>\n",
       "      <th>A_B</th>\n",
       "      <th>id</th>\n",
       "      <th>r</th>\n",
       "      <th>s</th>\n",
       "      <th>r</th>\n",
       "      <th>s</th>\n",
       "    </tr>\n",
       "  </thead>\n",
       "  <tbody>\n",
       "    <tr>\n",
       "      <th>0</th>\n",
       "      <td>0.447270</td>\n",
       "      <td>-0.091965</td>\n",
       "      <td>0.128093</td>\n",
       "      <td>0.991191</td>\n",
       "      <td>0.973057</td>\n",
       "      <td>-0.418572</td>\n",
       "      <td>0.300226</td>\n",
       "      <td>0.0</td>\n",
       "      <td>0.0</td>\n",
       "      <td>0.314472</td>\n",
       "      <td>0.060542</td>\n",
       "      <td>0.782404</td>\n",
       "      <td>-0.629320</td>\n",
       "    </tr>\n",
       "    <tr>\n",
       "      <th>1</th>\n",
       "      <td>-0.488733</td>\n",
       "      <td>-0.462525</td>\n",
       "      <td>0.458514</td>\n",
       "      <td>-0.297535</td>\n",
       "      <td>-0.705839</td>\n",
       "      <td>-0.981563</td>\n",
       "      <td>0.021823</td>\n",
       "      <td>0.0</td>\n",
       "      <td>2.0</td>\n",
       "      <td>-0.588101</td>\n",
       "      <td>0.542512</td>\n",
       "      <td>-1.145368</td>\n",
       "      <td>0.194792</td>\n",
       "    </tr>\n",
       "    <tr>\n",
       "      <th>2</th>\n",
       "      <td>-0.498006</td>\n",
       "      <td>0.344302</td>\n",
       "      <td>0.410456</td>\n",
       "      <td>0.982018</td>\n",
       "      <td>-0.624575</td>\n",
       "      <td>-0.980797</td>\n",
       "      <td>-1.106667</td>\n",
       "      <td>1.0</td>\n",
       "      <td>1.0</td>\n",
       "      <td>-0.618859</td>\n",
       "      <td>-0.247189</td>\n",
       "      <td>-0.784765</td>\n",
       "      <td>-1.028681</td>\n",
       "    </tr>\n",
       "  </tbody>\n",
       "</table>\n",
       "</div>"
      ],
      "text/plain": [
       "          A                             B                            C1   C2  \\\n",
       "          x         y         z         x         y         z       AxB  A_B   \n",
       "0  0.447270 -0.091965  0.128093  0.991191  0.973057 -0.418572  0.300226  0.0   \n",
       "1 -0.488733 -0.462525  0.458514 -0.297535 -0.705839 -0.981563  0.021823  0.0   \n",
       "2 -0.498006  0.344302  0.410456  0.982018 -0.624575 -0.980797 -1.106667  1.0   \n",
       "\n",
       "     D        AC                  BC            \n",
       "    id         r         s         r         s  \n",
       "0  0.0  0.314472  0.060542  0.782404 -0.629320  \n",
       "1  2.0 -0.588101  0.542512 -1.145368  0.194792  \n",
       "2  1.0 -0.618859 -0.247189 -0.784765 -1.028681  "
      ]
     },
     "metadata": {},
     "output_type": "display_data"
    },
    {
     "data": {
      "text/plain": [
       "<AxesSubplot:>"
      ]
     },
     "execution_count": 2,
     "metadata": {},
     "output_type": "execute_result"
    },
    {
     "data": {
      "image/png": "[encoded data removed]",
      "text/plain": [
       "<Figure size 1152x432 with 3 Axes>"
      ]
     },
     "metadata": {
      "needs_background": "light"
     },
     "output_type": "display_data"
    }
   ],
   "source": [
    "import matplotlib.pyplot as plt\n",
    "import numpy as np\n",
    "import pandas as pd\n",
    "from seaborn import scatterplot as plot\n",
    "from seaborn import boxplot as boxplot\n",
    "from seaborn import heatmap as heatplot\n",
    "from sklearn.model_selection import train_test_split\n",
    "from datetime import datetime\n",
    "from sklearn.decomposition import PCA\n",
    "from os import path\n",
    "from shutil import rmtree\n",
    "\n",
    "def mkdf(k):\n",
    "    global pca\n",
    "    ar = np.zeros((k, 13), float)\n",
    "    ar[:, :3], ar[:, 3:6] = .5 * np.cos(2 * np.pi * np.random.rand(k, 3)), np.cos(2 * np.pi * np.random.rand(k, 3))\n",
    "    ar[:, 6] = np.einsum('ij,ij->i', ar[:, :3], ar[:, 3:6])\n",
    "    ar[:, 7] = (np.abs(np.trunc(ar[:, 6]))).astype(int)\n",
    "    ar[:, 8] = np.random.randint(0, 3, k)\n",
    "    ar[:, 9:11], ar[:, 11:13] = pca.fit_transform(ar[:, :3]), pca.fit_transform(ar[:, 3:6])\n",
    "    df1, df2  = pd.DataFrame(ar[:, :3], columns=['x', 'y', 'z']), pd.DataFrame(ar[:, 3:6], columns=['x', 'y', 'z'])\n",
    "    df3 = pd.DataFrame(ar[:, 6], columns=['AxB'])\n",
    "    df4 = pd.DataFrame(ar[:, 7], columns=['A_B'])\n",
    "    df5 = pd.DataFrame(ar[:, 8], columns=['id'])\n",
    "    df6, df7 = pd.DataFrame(ar[:, 9:11], columns=['r', 's']), pd.DataFrame(ar[:, 11:13], columns=['r', 's'])\n",
    "    return pd.concat([df1, df2, df3, df4, df5, df6, df7], axis=1, keys=['A', 'B', 'C1', 'C2', 'D', 'AC', 'BC'])\n",
    "\n",
    "nv, npc, n, p = 3, 2, 10, 100\n",
    "pca = PCA(n_components=npc)\n",
    "\n",
    "df = pd.concat([mkdf(p) for i in np.arange(n)])\n",
    "df.index = np.arange(n * p)\n",
    "display (df.head(3))\n",
    "\n",
    "log = 'lightning_logs'\n",
    "if path.isdir(log):\n",
    "    rmtree(log)\n",
    "\n",
    "data = 'ABC.csv'\n",
    "#df.columns = df.columns.to_flat_index()\n",
    "df.to_csv(data, index=False)\n",
    "\n",
    "fig, (ax1, ax2) = plt.subplots(1, 2, figsize=(16, 6))\n",
    "txt = ','.join(df.A.columns.values) + ' -> ' + ','.join(df.AC.columns.values)\n",
    "fig.suptitle(f'PCA for dimension reduction  {txt}')\n",
    "C2_txt =  [['OK','KO'][int(v)] for v in df.C2.A_B.values]\n",
    "plot(x=df.AC.r, y=df.AC.s, hue=C2_txt, palette=['red', 'blue'], ec=None, ax=ax1)\n",
    "\n",
    "df.C2.A_B.describe()\n",
    "\n",
    "for i in range(nv):\n",
    "    ax1.arrow(0, 0,  pca.components_[0, i], pca.components_[1, i], alpha = 0.5)\n",
    "    ax1.text(pca.components_[0,i]*1.1, pca.components_[1,i]*1.1, df.A.columns[i], color='g')\n",
    "\n",
    "loadings_df = pd.DataFrame(dict(zip(df.AC.columns, pca.components_)),index= df.A.columns.values)\n",
    "heatplot(loadings_df, annot=True, cmap='Spectral', ax=ax2)"
   ]
  },
  {
   "cell_type": "code",
   "execution_count": 3,
   "metadata": {
    "pycharm": {
     "name": "#%%\n"
    }
   },
   "outputs": [
    {
     "data": {
      "text/html": [
       "<div>\n",
       "<style scoped>\n",
       "    .dataframe tbody tr th:only-of-type {\n",
       "        vertical-align: middle;\n",
       "    }\n",
       "\n",
       "    .dataframe tbody tr th {\n",
       "        vertical-align: top;\n",
       "    }\n",
       "\n",
       "    .dataframe thead th {\n",
       "        text-align: right;\n",
       "    }\n",
       "</style>\n",
       "<table border=\"1\" class=\"dataframe\">\n",
       "  <thead>\n",
       "    <tr style=\"text-align: right;\">\n",
       "      <th></th>\n",
       "      <th>x</th>\n",
       "      <th>y</th>\n",
       "      <th>z</th>\n",
       "    </tr>\n",
       "  </thead>\n",
       "  <tbody>\n",
       "    <tr>\n",
       "      <th>count</th>\n",
       "      <td>1000.000000</td>\n",
       "      <td>1000.000000</td>\n",
       "      <td>1000.000000</td>\n",
       "    </tr>\n",
       "    <tr>\n",
       "      <th>mean</th>\n",
       "      <td>0.018314</td>\n",
       "      <td>0.008434</td>\n",
       "      <td>0.004354</td>\n",
       "    </tr>\n",
       "    <tr>\n",
       "      <th>std</th>\n",
       "      <td>0.354782</td>\n",
       "      <td>0.360130</td>\n",
       "      <td>0.352032</td>\n",
       "    </tr>\n",
       "    <tr>\n",
       "      <th>min</th>\n",
       "      <td>-0.499974</td>\n",
       "      <td>-0.499999</td>\n",
       "      <td>-0.499995</td>\n",
       "    </tr>\n",
       "    <tr>\n",
       "      <th>25%</th>\n",
       "      <td>-0.337764</td>\n",
       "      <td>-0.355520</td>\n",
       "      <td>-0.347896</td>\n",
       "    </tr>\n",
       "    <tr>\n",
       "      <th>50%</th>\n",
       "      <td>0.030153</td>\n",
       "      <td>0.013219</td>\n",
       "      <td>0.018973</td>\n",
       "    </tr>\n",
       "    <tr>\n",
       "      <th>75%</th>\n",
       "      <td>0.371052</td>\n",
       "      <td>0.376538</td>\n",
       "      <td>0.346534</td>\n",
       "    </tr>\n",
       "    <tr>\n",
       "      <th>max</th>\n",
       "      <td>0.500000</td>\n",
       "      <td>0.499998</td>\n",
       "      <td>0.499996</td>\n",
       "    </tr>\n",
       "  </tbody>\n",
       "</table>\n",
       "</div>"
      ],
      "text/plain": [
       "                 x            y            z\n",
       "count  1000.000000  1000.000000  1000.000000\n",
       "mean      0.018314     0.008434     0.004354\n",
       "std       0.354782     0.360130     0.352032\n",
       "min      -0.499974    -0.499999    -0.499995\n",
       "25%      -0.337764    -0.355520    -0.347896\n",
       "50%       0.030153     0.013219     0.018973\n",
       "75%       0.371052     0.376538     0.346534\n",
       "max       0.500000     0.499998     0.499996"
      ]
     },
     "execution_count": 3,
     "metadata": {},
     "output_type": "execute_result"
    }
   ],
   "source": [
    "y = df.C2.A_B\n",
    "X = df.A\n",
    "#X = pd.merge(df.A, df.C1.AxB, right_index = True, left_index = True)\n",
    "\n",
    "X_train, X_test, y_train, y_test = train_test_split(X.values, y, test_size=.2, random_state=42)\n",
    "\n",
    "# from sklearn.preprocessing import StandardScaler\n",
    "# scaler = StandardScaler()\n",
    "# scaler.fit(X)\n",
    "# X=scaler.transform(X) \n",
    "\n",
    "# Check if data are normalized\n",
    "\n",
    "X.describe()"
   ]
  },
  {
   "cell_type": "markdown",
   "metadata": {
    "pycharm": {
     "name": "#%% md\n"
    }
   },
   "source": [
    "![alt text](doc/nn.png \"Title\")\n",
    "<br> __[Source: Shervine Amidi - Stanford- Machine Learning cs-229](https://stanford.edu/~shervine/teaching/cs-229/)__"
   ]
  },
  {
   "cell_type": "code",
   "execution_count": 6,
   "metadata": {
    "pycharm": {
     "name": "#%%\n"
    }
   },
   "outputs": [
    {
     "name": "stderr",
     "output_type": "stream",
     "text": [
      "Global seed set to 42\n",
      "Trainer already configured with model summary callbacks: [<class 'pytorch_lightning.callbacks.model_summary.ModelSummary'>]. Skipping setting a default `ModelSummary` callback.\n",
      "GPU available: False, used: False\n",
      "TPU available: False, using: 0 TPU cores\n",
      "IPU available: False, using: 0 IPUs\n",
      "HPU available: False, using: 0 HPUs\n",
      "Missing logger folder: D:\\DojoPython\\github\\ml1\\lightning_logs\n",
      "\n",
      "  | Name      | Type       | Params\n",
      "-----------------------------------------\n",
      "0 | encoder   | Sequential | 14    \n",
      "1 | encoder.0 | Linear     | 8     \n",
      "2 | encoder.1 | ELU        | 0     \n",
      "3 | encoder.2 | Linear     | 6     \n",
      "4 | decoder   | Sequential | 15    \n",
      "5 | decoder.0 | Linear     | 6     \n",
      "6 | decoder.1 | ELU        | 0     \n",
      "7 | decoder.2 | Linear     | 9     \n",
      "8 | decoder.3 | Sigmoid    | 0     \n",
      "-----------------------------------------\n",
      "29        Trainable params\n",
      "0         Non-trainable params\n",
      "29        Total params\n",
      "0.000     Total estimated model params size (MB)\n"
     ]
    },
    {
     "data": {
      "application/vnd.jupyter.widget-view+json": {
       "model_id": "",
       "version_major": 2,
       "version_minor": 0
      },
      "text/plain": [
       "Sanity Checking: 0it [00:00, ?it/s]"
      ]
     },
     "metadata": {},
     "output_type": "display_data"
    },
    {
     "name": "stderr",
     "output_type": "stream",
     "text": [
      "D:\\venv\\lib\\site-packages\\pytorch_lightning\\trainer\\connectors\\data_connector.py:240: PossibleUserWarning: The dataloader, val_dataloader 0, does not have many workers which may be a bottleneck. Consider increasing the value of the `num_workers` argument` (try 16 which is the number of cpus on this machine) in the `DataLoader` init to improve performance.\n",
      "  rank_zero_warn(\n",
      "D:\\venv\\lib\\site-packages\\pytorch_lightning\\trainer\\connectors\\data_connector.py:240: PossibleUserWarning: The dataloader, train_dataloader, does not have many workers which may be a bottleneck. Consider increasing the value of the `num_workers` argument` (try 16 which is the number of cpus on this machine) in the `DataLoader` init to improve performance.\n",
      "  rank_zero_warn(\n"
     ]
    },
    {
     "data": {
      "application/vnd.jupyter.widget-view+json": {
       "model_id": "525d021a61004c698a3ffa107cf4d210",
       "version_major": 2,
       "version_minor": 0
      },
      "text/plain": [
       "Training: 0it [00:00, ?it/s]"
      ]
     },
     "metadata": {},
     "output_type": "display_data"
    },
    {
     "data": {
      "application/vnd.jupyter.widget-view+json": {
       "model_id": "",
       "version_major": 2,
       "version_minor": 0
      },
      "text/plain": [
       "Validation: 0it [00:00, ?it/s]"
      ]
     },
     "metadata": {},
     "output_type": "display_data"
    },
    {
     "data": {
      "application/vnd.jupyter.widget-view+json": {
       "model_id": "",
       "version_major": 2,
       "version_minor": 0
      },
      "text/plain": [
       "Validation: 0it [00:00, ?it/s]"
      ]
     },
     "metadata": {},
     "output_type": "display_data"
    },
    {
     "data": {
      "application/vnd.jupyter.widget-view+json": {
       "model_id": "",
       "version_major": 2,
       "version_minor": 0
      },
      "text/plain": [
       "Validation: 0it [00:00, ?it/s]"
      ]
     },
     "metadata": {},
     "output_type": "display_data"
    },
    {
     "data": {
      "application/vnd.jupyter.widget-view+json": {
       "model_id": "",
       "version_major": 2,
       "version_minor": 0
      },
      "text/plain": [
       "Validation: 0it [00:00, ?it/s]"
      ]
     },
     "metadata": {},
     "output_type": "display_data"
    },
    {
     "data": {
      "application/vnd.jupyter.widget-view+json": {
       "model_id": "",
       "version_major": 2,
       "version_minor": 0
      },
      "text/plain": [
       "Validation: 0it [00:00, ?it/s]"
      ]
     },
     "metadata": {},
     "output_type": "display_data"
    },
    {
     "data": {
      "application/vnd.jupyter.widget-view+json": {
       "model_id": "",
       "version_major": 2,
       "version_minor": 0
      },
      "text/plain": [
       "Validation: 0it [00:00, ?it/s]"
      ]
     },
     "metadata": {},
     "output_type": "display_data"
    },
    {
     "data": {
      "application/vnd.jupyter.widget-view+json": {
       "model_id": "",
       "version_major": 2,
       "version_minor": 0
      },
      "text/plain": [
       "Validation: 0it [00:00, ?it/s]"
      ]
     },
     "metadata": {},
     "output_type": "display_data"
    },
    {
     "data": {
      "application/vnd.jupyter.widget-view+json": {
       "model_id": "",
       "version_major": 2,
       "version_minor": 0
      },
      "text/plain": [
       "Validation: 0it [00:00, ?it/s]"
      ]
     },
     "metadata": {},
     "output_type": "display_data"
    },
    {
     "data": {
      "application/vnd.jupyter.widget-view+json": {
       "model_id": "",
       "version_major": 2,
       "version_minor": 0
      },
      "text/plain": [
       "Validation: 0it [00:00, ?it/s]"
      ]
     },
     "metadata": {},
     "output_type": "display_data"
    },
    {
     "data": {
      "application/vnd.jupyter.widget-view+json": {
       "model_id": "",
       "version_major": 2,
       "version_minor": 0
      },
      "text/plain": [
       "Validation: 0it [00:00, ?it/s]"
      ]
     },
     "metadata": {},
     "output_type": "display_data"
    },
    {
     "data": {
      "application/vnd.jupyter.widget-view+json": {
       "model_id": "",
       "version_major": 2,
       "version_minor": 0
      },
      "text/plain": [
       "Validation: 0it [00:00, ?it/s]"
      ]
     },
     "metadata": {},
     "output_type": "display_data"
    },
    {
     "data": {
      "application/vnd.jupyter.widget-view+json": {
       "model_id": "",
       "version_major": 2,
       "version_minor": 0
      },
      "text/plain": [
       "Validation: 0it [00:00, ?it/s]"
      ]
     },
     "metadata": {},
     "output_type": "display_data"
    },
    {
     "data": {
      "application/vnd.jupyter.widget-view+json": {
       "model_id": "",
       "version_major": 2,
       "version_minor": 0
      },
      "text/plain": [
       "Validation: 0it [00:00, ?it/s]"
      ]
     },
     "metadata": {},
     "output_type": "display_data"
    },
    {
     "data": {
      "application/vnd.jupyter.widget-view+json": {
       "model_id": "",
       "version_major": 2,
       "version_minor": 0
      },
      "text/plain": [
       "Validation: 0it [00:00, ?it/s]"
      ]
     },
     "metadata": {},
     "output_type": "display_data"
    },
    {
     "data": {
      "application/vnd.jupyter.widget-view+json": {
       "model_id": "",
       "version_major": 2,
       "version_minor": 0
      },
      "text/plain": [
       "Validation: 0it [00:00, ?it/s]"
      ]
     },
     "metadata": {},
     "output_type": "display_data"
    },
    {
     "data": {
      "application/vnd.jupyter.widget-view+json": {
       "model_id": "",
       "version_major": 2,
       "version_minor": 0
      },
      "text/plain": [
       "Validation: 0it [00:00, ?it/s]"
      ]
     },
     "metadata": {},
     "output_type": "display_data"
    },
    {
     "data": {
      "application/vnd.jupyter.widget-view+json": {
       "model_id": "",
       "version_major": 2,
       "version_minor": 0
      },
      "text/plain": [
       "Validation: 0it [00:00, ?it/s]"
      ]
     },
     "metadata": {},
     "output_type": "display_data"
    },
    {
     "data": {
      "application/vnd.jupyter.widget-view+json": {
       "model_id": "",
       "version_major": 2,
       "version_minor": 0
      },
      "text/plain": [
       "Validation: 0it [00:00, ?it/s]"
      ]
     },
     "metadata": {},
     "output_type": "display_data"
    },
    {
     "data": {
      "application/vnd.jupyter.widget-view+json": {
       "model_id": "",
       "version_major": 2,
       "version_minor": 0
      },
      "text/plain": [
       "Validation: 0it [00:00, ?it/s]"
      ]
     },
     "metadata": {},
     "output_type": "display_data"
    },
    {
     "data": {
      "application/vnd.jupyter.widget-view+json": {
       "model_id": "",
       "version_major": 2,
       "version_minor": 0
      },
      "text/plain": [
       "Validation: 0it [00:00, ?it/s]"
      ]
     },
     "metadata": {},
     "output_type": "display_data"
    },
    {
     "data": {
      "application/vnd.jupyter.widget-view+json": {
       "model_id": "",
       "version_major": 2,
       "version_minor": 0
      },
      "text/plain": [
       "Validation: 0it [00:00, ?it/s]"
      ]
     },
     "metadata": {},
     "output_type": "display_data"
    },
    {
     "data": {
      "application/vnd.jupyter.widget-view+json": {
       "model_id": "",
       "version_major": 2,
       "version_minor": 0
      },
      "text/plain": [
       "Validation: 0it [00:00, ?it/s]"
      ]
     },
     "metadata": {},
     "output_type": "display_data"
    },
    {
     "data": {
      "application/vnd.jupyter.widget-view+json": {
       "model_id": "",
       "version_major": 2,
       "version_minor": 0
      },
      "text/plain": [
       "Validation: 0it [00:00, ?it/s]"
      ]
     },
     "metadata": {},
     "output_type": "display_data"
    },
    {
     "data": {
      "application/vnd.jupyter.widget-view+json": {
       "model_id": "",
       "version_major": 2,
       "version_minor": 0
      },
      "text/plain": [
       "Validation: 0it [00:00, ?it/s]"
      ]
     },
     "metadata": {},
     "output_type": "display_data"
    },
    {
     "data": {
      "application/vnd.jupyter.widget-view+json": {
       "model_id": "",
       "version_major": 2,
       "version_minor": 0
      },
      "text/plain": [
       "Validation: 0it [00:00, ?it/s]"
      ]
     },
     "metadata": {},
     "output_type": "display_data"
    },
    {
     "data": {
      "application/vnd.jupyter.widget-view+json": {
       "model_id": "",
       "version_major": 2,
       "version_minor": 0
      },
      "text/plain": [
       "Validation: 0it [00:00, ?it/s]"
      ]
     },
     "metadata": {},
     "output_type": "display_data"
    },
    {
     "data": {
      "application/vnd.jupyter.widget-view+json": {
       "model_id": "",
       "version_major": 2,
       "version_minor": 0
      },
      "text/plain": [
       "Validation: 0it [00:00, ?it/s]"
      ]
     },
     "metadata": {},
     "output_type": "display_data"
    },
    {
     "data": {
      "application/vnd.jupyter.widget-view+json": {
       "model_id": "",
       "version_major": 2,
       "version_minor": 0
      },
      "text/plain": [
       "Validation: 0it [00:00, ?it/s]"
      ]
     },
     "metadata": {},
     "output_type": "display_data"
    },
    {
     "data": {
      "application/vnd.jupyter.widget-view+json": {
       "model_id": "",
       "version_major": 2,
       "version_minor": 0
      },
      "text/plain": [
       "Validation: 0it [00:00, ?it/s]"
      ]
     },
     "metadata": {},
     "output_type": "display_data"
    },
    {
     "data": {
      "application/vnd.jupyter.widget-view+json": {
       "model_id": "",
       "version_major": 2,
       "version_minor": 0
      },
      "text/plain": [
       "Validation: 0it [00:00, ?it/s]"
      ]
     },
     "metadata": {},
     "output_type": "display_data"
    }
   ],
   "source": [
    "import matplotlib.pyplot as plt\n",
    "import tensorboard\n",
    "from torch import Tensor, optim, stack, nn, cat\n",
    "from torch.nn import functional as F\n",
    "from torch.utils.data import DataLoader\n",
    "import pytorch_lightning as pl\n",
    "from pytorch_lightning.callbacks import ModelSummary, TQDMProgressBar\n",
    "from typing import Optional\n",
    "\n",
    "class DataModule(pl.LightningDataModule):\n",
    "\n",
    "    name = \"A.B\"\n",
    "\n",
    "    def __init__(\n",
    "        self,\n",
    "        val_split: int = 200,\n",
    "        num_workers: int = 0,\n",
    "        normalize: bool = False,\n",
    "        seed: int = 42,\n",
    "        batch_size: int = 10,\n",
    "        *args, **kwargs,\n",
    "    ):\n",
    "\n",
    "        super().__init__(*args, **kwargs)\n",
    "\n",
    "        self.val_split = val_split\n",
    "        self.num_workers = num_workers\n",
    "        self.normalize = normalize\n",
    "        self.seed = seed\n",
    "        self.batch_size = batch_size\n",
    "        self.dataset_train, self.dataset_val = [], []\n",
    "\n",
    "    def setup(self, stage: Optional[str] = None):\n",
    "        #self.dataset = pd.read_csv(data, skiprows=1)[['x','y','z']]\n",
    "        #self.dataset = Tensor(self.dataset.values)\n",
    "        #self.dataset_train, self.dataset_val = random_split(self.dataset, [self.dataset.shape[0] - self.val_split, self.val_split])\n",
    "        self.dataset_train = Tensor(X_train)\n",
    "        self.dataset_val = Tensor(X_test)\n",
    "\n",
    "    def train_dataloader(self):\n",
    "        loader = DataLoader(\n",
    "            self.dataset_train,\n",
    "            batch_size=self.batch_size,\n",
    "            shuffle=True,\n",
    "            num_workers=self.num_workers,\n",
    "            drop_last=True,\n",
    "           # pin_memory=torch.cuda.is_available(), #speed up transfer data from cpu and gpu (Set to false when using CPU)\n",
    "        )\n",
    "        return loader\n",
    "\n",
    "    def val_dataloader(self):\n",
    "        loader = DataLoader(\n",
    "            self.dataset_val,\n",
    "            batch_size=self.batch_size,\n",
    "            shuffle=False,\n",
    "            num_workers=self.num_workers,\n",
    "            drop_last=True,\n",
    "            # pin_memory=torch.cuda.is_available(), #speed up transfer data from cpu and gpu (Set to false when using CPU)\n",
    "        )\n",
    "        return loader\n",
    "\n",
    "    def predict_dataloader(self):\n",
    "        loader = DataLoader(\n",
    "            self.dataset_val,\n",
    "            batch_size=self.batch_size,\n",
    "            shuffle=False,\n",
    "            num_workers=self.num_workers,\n",
    "            drop_last=True,\n",
    "            # pin_memory=torch.cuda.is_available(),  #speed up transfer data from cpu and gpu (Set to false when using CPU)\n",
    "        )\n",
    "        return loader\n",
    "\n",
    "    def test_dataloader(self):\n",
    "        return self.predict_dataloader()\n",
    "\n",
    "    @property\n",
    "    def default_transforms(self):\n",
    "        return None\n",
    "\n",
    "\n",
    "class LitAutoEncoder(pl.LightningModule):\n",
    "\n",
    "    def __init__(self,nc):\n",
    "        super().__init__()\n",
    "        cn = round(round(nc ** .5))\n",
    "        self.encoder = nn.Sequential(\n",
    "            nn.Linear(nc, cn),\n",
    "            nn.ELU(),\n",
    "            nn.Linear(cn, 2))\n",
    "\n",
    "        self.decoder = nn.Sequential(\n",
    "            nn.Linear(2, cn),\n",
    "            nn.ELU(),\n",
    "            nn.Linear(cn, nc),\n",
    "            nn.Sigmoid())\n",
    "\n",
    "    def forward(self, x):\n",
    "        embedding = self.encoder(x)\n",
    "        return embedding\n",
    "\n",
    "    def configure_optimizers(self):\n",
    "        return optim.Adam(self.parameters(), lr=1e-3)\n",
    "\n",
    "    def training_step(self, train_batch, batch_idx):\n",
    "        x = train_batch\n",
    "        z = self.encoder(x)\n",
    "        x_hat = self.decoder(z)\n",
    "        loss = F.mse_loss(x_hat, x)\n",
    "        self.log('train_loss', loss)\n",
    "\n",
    "        return loss\n",
    "\n",
    "    def validation_step(self, val_batch, batch_idx):\n",
    "        x = val_batch\n",
    "        z = self.encoder(x)\n",
    "        x_hat = self.decoder(z)\n",
    "        loss = F.mse_loss(x_hat, x)\n",
    "        self.log('val_loss', loss)\n",
    "\n",
    "    def predict_step(self, pred_batch, batch_idx):\n",
    "        x, = pred_batch\n",
    "        pred = self(x)\n",
    "        return pred\n",
    "\n",
    "    def test_step(self, test_batch, batch_idx):\n",
    "        x, = test_batch\n",
    "        z = self.encoder(x)\n",
    "        x_hat = self.decoder(z)\n",
    "        loss = F.mse_loss(x_hat, x)\n",
    "        self.log('test_loss', loss)\n",
    "\n",
    "    def training_epoch_end(self, outputs):\n",
    "        avg_loss = stack([x['loss'] for x in outputs]).mean()\n",
    "        self.log('avg_train', avg_loss)\n",
    "        \n",
    "\n",
    "pl.seed_everything(42, workers=True)\n",
    "aet = LitAutoEncoder(X.shape[1])\n",
    "data_loader = DataModule(num_workers=0)\n",
    "# TQDMProgressBar(refresh_rate=20), limits progress bar refresh rate when running in Colab or Jupyter\n",
    "trainer = pl.Trainer(deterministic=True, max_epochs=30, callbacks=[ModelSummary(max_depth=2), TQDMProgressBar(refresh_rate=20)])\n",
    "trainer.fit(aet, data_loader)"
   ]
  },
  {
   "cell_type": "code",
   "execution_count": 7,
   "metadata": {
    "pycharm": {
     "name": "#%%\n"
    }
   },
   "outputs": [
    {
     "data": {
      "text/plain": [
       "'2.9.0'"
      ]
     },
     "execution_count": 7,
     "metadata": {},
     "output_type": "execute_result"
    }
   ],
   "source": [
    "%load_ext tensorboard\n",
    "tensorboard.__version__"
   ]
  },
  {
   "cell_type": "code",
   "execution_count": 8,
   "metadata": {
    "pycharm": {
     "name": "#%%\n"
    }
   },
   "outputs": [
    {
     "data": {
      "text/plain": [
       "Reusing TensorBoard on port 6009 (pid 14640), started 0:26:55 ago. (Use '!kill 14640' to kill it.)"
      ]
     },
     "metadata": {},
     "output_type": "display_data"
    },
    {
     "data": {
      "text/html": [
       "\n",
       "      <iframe id=\"tensorboard-frame-1c80317fa3b1799d\" width=\"100%\" height=\"800\" frameborder=\"0\">\n",
       "      </iframe>\n",
       "      <script>\n",
       "        (function() {\n",
       "          const frame = document.getElementById(\"tensorboard-frame-1c80317fa3b1799d\");\n",
       "          const url = new URL(\"/\", window.location);\n",
       "          const port = 6009;\n",
       "          if (port) {\n",
       "            url.port = port;\n",
       "          }\n",
       "          frame.src = url;\n",
       "        })();\n",
       "      </script>\n",
       "    "
      ],
      "text/plain": [
       "<IPython.core.display.HTML object>"
      ]
     },
     "metadata": {},
     "output_type": "display_data"
    }
   ],
   "source": [
    "%tensorboard --host localhost --port 6009  --logdir $log "
   ]
  },
  {
   "cell_type": "markdown",
   "metadata": {
    "pycharm": {
     "name": "#%% md\n"
    }
   },
   "source": [
    "## 3 - AUTOENCODER with Keras"
   ]
  },
  {
   "cell_type": "code",
   "execution_count": 9,
   "metadata": {
    "pycharm": {
     "name": "#%%\n"
    }
   },
   "outputs": [
    {
     "name": "stdout",
     "output_type": "stream",
     "text": [
      "Epoch 1/30\n",
      "64/64 [==============================] - 1s 3ms/step - loss: 0.3422 - val_loss: 0.3391\n",
      "Epoch 2/30\n",
      "64/64 [==============================] - 0s 2ms/step - loss: 0.3064 - val_loss: 0.2952\n",
      "Epoch 3/30\n",
      "64/64 [==============================] - 0s 2ms/step - loss: 0.2630 - val_loss: 0.2469\n",
      "Epoch 4/30\n",
      "64/64 [==============================] - 0s 2ms/step - loss: 0.2198 - val_loss: 0.2041\n",
      "Epoch 5/30\n",
      "64/64 [==============================] - 0s 1ms/step - loss: 0.1841 - val_loss: 0.1717\n",
      "Epoch 6/30\n",
      "64/64 [==============================] - 0s 2ms/step - loss: 0.1585 - val_loss: 0.1505\n",
      "Epoch 7/30\n",
      "64/64 [==============================] - 0s 1ms/step - loss: 0.1422 - val_loss: 0.1377\n",
      "Epoch 8/30\n",
      "64/64 [==============================] - 0s 2ms/step - loss: 0.1322 - val_loss: 0.1300\n",
      "Epoch 9/30\n",
      "64/64 [==============================] - 0s 2ms/step - loss: 0.1258 - val_loss: 0.1249\n",
      "Epoch 10/30\n",
      "64/64 [==============================] - 0s 2ms/step - loss: 0.1213 - val_loss: 0.1209\n",
      "Epoch 11/30\n",
      "64/64 [==============================] - 0s 2ms/step - loss: 0.1177 - val_loss: 0.1176\n",
      "Epoch 12/30\n",
      "64/64 [==============================] - 0s 2ms/step - loss: 0.1144 - val_loss: 0.1146\n",
      "Epoch 13/30\n",
      "64/64 [==============================] - 0s 2ms/step - loss: 0.1116 - val_loss: 0.1120\n",
      "Epoch 14/30\n",
      "64/64 [==============================] - 0s 2ms/step - loss: 0.1093 - val_loss: 0.1101\n",
      "Epoch 15/30\n",
      "64/64 [==============================] - 0s 2ms/step - loss: 0.1076 - val_loss: 0.1087\n",
      "Epoch 16/30\n",
      "64/64 [==============================] - 0s 2ms/step - loss: 0.1063 - val_loss: 0.1078\n",
      "Epoch 17/30\n",
      "64/64 [==============================] - 0s 2ms/step - loss: 0.1054 - val_loss: 0.1070\n",
      "Epoch 18/30\n",
      "64/64 [==============================] - 0s 2ms/step - loss: 0.1047 - val_loss: 0.1065\n",
      "Epoch 19/30\n",
      "64/64 [==============================] - 0s 2ms/step - loss: 0.1040 - val_loss: 0.1060\n",
      "Epoch 20/30\n",
      "64/64 [==============================] - 0s 2ms/step - loss: 0.1034 - val_loss: 0.1055\n",
      "Epoch 21/30\n",
      "64/64 [==============================] - 0s 2ms/step - loss: 0.1029 - val_loss: 0.1051\n",
      "Epoch 22/30\n",
      "64/64 [==============================] - 0s 2ms/step - loss: 0.1022 - val_loss: 0.1045\n",
      "Epoch 23/30\n",
      "64/64 [==============================] - 0s 2ms/step - loss: 0.1015 - val_loss: 0.1039\n",
      "Epoch 24/30\n",
      "64/64 [==============================] - 0s 2ms/step - loss: 0.1007 - val_loss: 0.1031\n",
      "Epoch 25/30\n",
      "64/64 [==============================] - 0s 2ms/step - loss: 0.0997 - val_loss: 0.1022\n",
      "Epoch 26/30\n",
      "64/64 [==============================] - 0s 2ms/step - loss: 0.0985 - val_loss: 0.1010\n",
      "Epoch 27/30\n",
      "64/64 [==============================] - 0s 2ms/step - loss: 0.0971 - val_loss: 0.0996\n",
      "Epoch 28/30\n",
      "64/64 [==============================] - 0s 2ms/step - loss: 0.0956 - val_loss: 0.0980\n",
      "Epoch 29/30\n",
      "64/64 [==============================] - 0s 2ms/step - loss: 0.0938 - val_loss: 0.0962\n",
      "Epoch 30/30\n",
      "64/64 [==============================] - 0s 2ms/step - loss: 0.0920 - val_loss: 0.0942\n",
      "Model: \"sequential\"\n",
      "_________________________________________________________________\n",
      " Layer (type)                Output Shape              Param #   \n",
      "=================================================================\n",
      " dense (Dense)               (None, 2)                 8         \n",
      "                                                                 \n",
      " dense_1 (Dense)             (None, 2)                 6         \n",
      "                                                                 \n",
      " dense_2 (Dense)             (None, 2)                 6         \n",
      "                                                                 \n",
      " dense_3 (Dense)             (None, 3)                 9         \n",
      "                                                                 \n",
      "=================================================================\n",
      "Total params: 29\n",
      "Trainable params: 29\n",
      "Non-trainable params: 0\n",
      "_________________________________________________________________\n"
     ]
    }
   ],
   "source": [
    "from keras import Sequential\n",
    "from keras.layers import Dense\n",
    "from keras.callbacks import EarlyStopping, TensorBoard\n",
    "import tensorflow_addons as tfa\n",
    "\n",
    "logdir = path.join(log, datetime.now().strftime(\"%Y%m%d-%H%M%S\"))\n",
    "\n",
    "tensorboard_callback = TensorBoard(log_dir=logdir, histogram_freq=1)\n",
    "\n",
    "aek = Sequential()\n",
    "es = EarlyStopping('val_loss', min_delta=1e-10, patience=100,\n",
    "                       verbose=1, restore_best_weights=True)\n",
    "ndim = X.shape[1]\n",
    "ndim_inter = round(round(ndim**.5))\n",
    "ndim_middle = 2\n",
    "\n",
    "aek.add(Dense(ndim_inter, input_dim=ndim, activation='elu'))\n",
    "aek.add(Dense(ndim_middle,activation='elu'))\n",
    "aek.add(Dense(ndim_inter,activation='elu'))\n",
    "aek.add(Dense(ndim, activation='sigmoid'))\n",
    "aek.compile(optimizer='nadam', loss='mse')\n",
    "history = aek.fit(X_train, X_train, batch_size=10,\n",
    "              epochs=30, verbose=1, callbacks=[es, tensorboard_callback], validation_split=0.2)\n",
    "\n",
    "aek.summary()"
   ]
  },
  {
   "cell_type": "code",
   "execution_count": 10,
   "metadata": {
    "pycharm": {
     "name": "#%%\n"
    }
   },
   "outputs": [
    {
     "data": {
      "text/plain": [
       "Reusing TensorBoard on port 6009 (pid 14640), started 0:27:11 ago. (Use '!kill 14640' to kill it.)"
      ]
     },
     "metadata": {},
     "output_type": "display_data"
    },
    {
     "data": {
      "text/html": [
       "\n",
       "      <iframe id=\"tensorboard-frame-bdd640fb06671ad1\" width=\"100%\" height=\"800\" frameborder=\"0\">\n",
       "      </iframe>\n",
       "      <script>\n",
       "        (function() {\n",
       "          const frame = document.getElementById(\"tensorboard-frame-bdd640fb06671ad1\");\n",
       "          const url = new URL(\"/\", window.location);\n",
       "          const port = 6009;\n",
       "          if (port) {\n",
       "            url.port = port;\n",
       "          }\n",
       "          frame.src = url;\n",
       "        })();\n",
       "      </script>\n",
       "    "
      ],
      "text/plain": [
       "<IPython.core.display.HTML object>"
      ]
     },
     "metadata": {},
     "output_type": "display_data"
    }
   ],
   "source": [
    "%tensorboard --host localhost --port 6009 --logdir $log"
   ]
  },
  {
   "cell_type": "markdown",
   "metadata": {
    "pycharm": {
     "name": "#%% md\n"
    }
   },
   "source": [
    "## 4 - PREDICTION with PRE-TRAINED AUTOENCODERS "
   ]
  },
  {
   "cell_type": "code",
   "execution_count": 12,
   "metadata": {
    "pycharm": {
     "name": "#%%\n"
    }
   },
   "outputs": [
    {
     "name": "stderr",
     "output_type": "stream",
     "text": [
      "D:\\venv\\lib\\site-packages\\pytorch_lightning\\trainer\\connectors\\data_connector.py:240: PossibleUserWarning: The dataloader, predict_dataloader 0, does not have many workers which may be a bottleneck. Consider increasing the value of the `num_workers` argument` (try 16 which is the number of cpus on this machine) in the `DataLoader` init to improve performance.\n",
      "  rank_zero_warn(\n"
     ]
    },
    {
     "data": {
      "application/vnd.jupyter.widget-view+json": {
       "model_id": "187b7be758cd4740a76e18ed6575b776",
       "version_major": 2,
       "version_minor": 0
      },
      "text/plain": [
       "Predicting: 80it [00:00, ?it/s]"
      ]
     },
     "metadata": {},
     "output_type": "display_data"
    },
    {
     "ename": "ValueError",
     "evalue": "too many values to unpack (expected 1)",
     "output_type": "error",
     "traceback": [
      "\u001b[1;31m---------------------------------------------------------------------------\u001b[0m",
      "\u001b[1;31mValueError\u001b[0m                                Traceback (most recent call last)",
      "Input \u001b[1;32mIn [12]\u001b[0m, in \u001b[0;36m<cell line: 3>\u001b[1;34m()\u001b[0m\n\u001b[0;32m      1\u001b[0m \u001b[38;5;66;03m#Pytorch Lightning\u001b[39;00m\n\u001b[0;32m      2\u001b[0m \u001b[38;5;66;03m#trainer.test(aet, dataloaders=data_loader)\u001b[39;00m\n\u001b[1;32m----> 3\u001b[0m X_test_reduit_torch \u001b[38;5;241m=\u001b[39m cat(\u001b[43mtrainer\u001b[49m\u001b[38;5;241;43m.\u001b[39;49m\u001b[43mpredict\u001b[49m\u001b[43m(\u001b[49m\u001b[43maet\u001b[49m\u001b[43m,\u001b[49m\u001b[43m \u001b[49m\u001b[43mdata_loader\u001b[49m\u001b[43m)\u001b[49m, axis\u001b[38;5;241m=\u001b[39m\u001b[38;5;241m0\u001b[39m)\u001b[38;5;241m.\u001b[39mcpu()\u001b[38;5;241m.\u001b[39mnumpy()\n",
      "File \u001b[1;32mD:\\venv\\lib\\site-packages\\pytorch_lightning\\trainer\\trainer.py:1023\u001b[0m, in \u001b[0;36mTrainer.predict\u001b[1;34m(self, model, dataloaders, datamodule, return_predictions, ckpt_path)\u001b[0m\n\u001b[0;32m    998\u001b[0m \u001b[38;5;124mr\u001b[39m\u001b[38;5;124;03m\"\"\"\u001b[39;00m\n\u001b[0;32m    999\u001b[0m \u001b[38;5;124;03mRun inference on your data.\u001b[39;00m\n\u001b[0;32m   1000\u001b[0m \u001b[38;5;124;03mThis will call the model forward function to compute predictions. Useful to perform distributed\u001b[39;00m\n\u001b[1;32m   (...)\u001b[0m\n\u001b[0;32m   1020\u001b[0m \u001b[38;5;124;03m    Returns a list of dictionaries, one for each provided dataloader containing their respective predictions.\u001b[39;00m\n\u001b[0;32m   1021\u001b[0m \u001b[38;5;124;03m\"\"\"\u001b[39;00m\n\u001b[0;32m   1022\u001b[0m \u001b[38;5;28mself\u001b[39m\u001b[38;5;241m.\u001b[39mstrategy\u001b[38;5;241m.\u001b[39mmodel \u001b[38;5;241m=\u001b[39m model \u001b[38;5;129;01mor\u001b[39;00m \u001b[38;5;28mself\u001b[39m\u001b[38;5;241m.\u001b[39mlightning_module\n\u001b[1;32m-> 1023\u001b[0m \u001b[38;5;28;01mreturn\u001b[39;00m \u001b[38;5;28;43mself\u001b[39;49m\u001b[38;5;241;43m.\u001b[39;49m\u001b[43m_call_and_handle_interrupt\u001b[49m\u001b[43m(\u001b[49m\n\u001b[0;32m   1024\u001b[0m \u001b[43m    \u001b[49m\u001b[38;5;28;43mself\u001b[39;49m\u001b[38;5;241;43m.\u001b[39;49m\u001b[43m_predict_impl\u001b[49m\u001b[43m,\u001b[49m\u001b[43m \u001b[49m\u001b[43mmodel\u001b[49m\u001b[43m,\u001b[49m\u001b[43m \u001b[49m\u001b[43mdataloaders\u001b[49m\u001b[43m,\u001b[49m\u001b[43m \u001b[49m\u001b[43mdatamodule\u001b[49m\u001b[43m,\u001b[49m\u001b[43m \u001b[49m\u001b[43mreturn_predictions\u001b[49m\u001b[43m,\u001b[49m\u001b[43m \u001b[49m\u001b[43mckpt_path\u001b[49m\n\u001b[0;32m   1025\u001b[0m \u001b[43m\u001b[49m\u001b[43m)\u001b[49m\n",
      "File \u001b[1;32mD:\\venv\\lib\\site-packages\\pytorch_lightning\\trainer\\trainer.py:721\u001b[0m, in \u001b[0;36mTrainer._call_and_handle_interrupt\u001b[1;34m(self, trainer_fn, *args, **kwargs)\u001b[0m\n\u001b[0;32m    719\u001b[0m         \u001b[38;5;28;01mreturn\u001b[39;00m \u001b[38;5;28mself\u001b[39m\u001b[38;5;241m.\u001b[39mstrategy\u001b[38;5;241m.\u001b[39mlauncher\u001b[38;5;241m.\u001b[39mlaunch(trainer_fn, \u001b[38;5;241m*\u001b[39margs, trainer\u001b[38;5;241m=\u001b[39m\u001b[38;5;28mself\u001b[39m, \u001b[38;5;241m*\u001b[39m\u001b[38;5;241m*\u001b[39mkwargs)\n\u001b[0;32m    720\u001b[0m     \u001b[38;5;28;01melse\u001b[39;00m:\n\u001b[1;32m--> 721\u001b[0m         \u001b[38;5;28;01mreturn\u001b[39;00m trainer_fn(\u001b[38;5;241m*\u001b[39margs, \u001b[38;5;241m*\u001b[39m\u001b[38;5;241m*\u001b[39mkwargs)\n\u001b[0;32m    722\u001b[0m \u001b[38;5;66;03m# TODO: treat KeyboardInterrupt as BaseException (delete the code below) in v1.7\u001b[39;00m\n\u001b[0;32m    723\u001b[0m \u001b[38;5;28;01mexcept\u001b[39;00m \u001b[38;5;167;01mKeyboardInterrupt\u001b[39;00m \u001b[38;5;28;01mas\u001b[39;00m exception:\n",
      "File \u001b[1;32mD:\\venv\\lib\\site-packages\\pytorch_lightning\\trainer\\trainer.py:1070\u001b[0m, in \u001b[0;36mTrainer._predict_impl\u001b[1;34m(self, model, dataloaders, datamodule, return_predictions, ckpt_path)\u001b[0m\n\u001b[0;32m   1064\u001b[0m \u001b[38;5;28mself\u001b[39m\u001b[38;5;241m.\u001b[39m_ckpt_path \u001b[38;5;241m=\u001b[39m \u001b[38;5;28mself\u001b[39m\u001b[38;5;241m.\u001b[39m__set_ckpt_path(\n\u001b[0;32m   1065\u001b[0m     ckpt_path, model_provided\u001b[38;5;241m=\u001b[39mmodel_provided, model_connected\u001b[38;5;241m=\u001b[39m\u001b[38;5;28mself\u001b[39m\u001b[38;5;241m.\u001b[39mlightning_module \u001b[38;5;129;01mis\u001b[39;00m \u001b[38;5;129;01mnot\u001b[39;00m \u001b[38;5;28;01mNone\u001b[39;00m\n\u001b[0;32m   1066\u001b[0m )\n\u001b[0;32m   1068\u001b[0m \u001b[38;5;28mself\u001b[39m\u001b[38;5;241m.\u001b[39m_predicted_ckpt_path \u001b[38;5;241m=\u001b[39m \u001b[38;5;28mself\u001b[39m\u001b[38;5;241m.\u001b[39mckpt_path  \u001b[38;5;66;03m# TODO: remove in v1.8\u001b[39;00m\n\u001b[1;32m-> 1070\u001b[0m results \u001b[38;5;241m=\u001b[39m \u001b[38;5;28;43mself\u001b[39;49m\u001b[38;5;241;43m.\u001b[39;49m\u001b[43m_run\u001b[49m\u001b[43m(\u001b[49m\u001b[43mmodel\u001b[49m\u001b[43m,\u001b[49m\u001b[43m \u001b[49m\u001b[43mckpt_path\u001b[49m\u001b[38;5;241;43m=\u001b[39;49m\u001b[38;5;28;43mself\u001b[39;49m\u001b[38;5;241;43m.\u001b[39;49m\u001b[43mckpt_path\u001b[49m\u001b[43m)\u001b[49m\n\u001b[0;32m   1072\u001b[0m \u001b[38;5;28;01massert\u001b[39;00m \u001b[38;5;28mself\u001b[39m\u001b[38;5;241m.\u001b[39mstate\u001b[38;5;241m.\u001b[39mstopped\n\u001b[0;32m   1073\u001b[0m \u001b[38;5;28mself\u001b[39m\u001b[38;5;241m.\u001b[39mpredicting \u001b[38;5;241m=\u001b[39m \u001b[38;5;28;01mFalse\u001b[39;00m\n",
      "File \u001b[1;32mD:\\venv\\lib\\site-packages\\pytorch_lightning\\trainer\\trainer.py:1234\u001b[0m, in \u001b[0;36mTrainer._run\u001b[1;34m(self, model, ckpt_path)\u001b[0m\n\u001b[0;32m   1230\u001b[0m \u001b[38;5;28mself\u001b[39m\u001b[38;5;241m.\u001b[39m_checkpoint_connector\u001b[38;5;241m.\u001b[39mrestore_training_state()\n\u001b[0;32m   1232\u001b[0m \u001b[38;5;28mself\u001b[39m\u001b[38;5;241m.\u001b[39m_checkpoint_connector\u001b[38;5;241m.\u001b[39mresume_end()\n\u001b[1;32m-> 1234\u001b[0m results \u001b[38;5;241m=\u001b[39m \u001b[38;5;28;43mself\u001b[39;49m\u001b[38;5;241;43m.\u001b[39;49m\u001b[43m_run_stage\u001b[49m\u001b[43m(\u001b[49m\u001b[43m)\u001b[49m\n\u001b[0;32m   1236\u001b[0m log\u001b[38;5;241m.\u001b[39mdetail(\u001b[38;5;124mf\u001b[39m\u001b[38;5;124m\"\u001b[39m\u001b[38;5;132;01m{\u001b[39;00m\u001b[38;5;28mself\u001b[39m\u001b[38;5;241m.\u001b[39m\u001b[38;5;18m__class__\u001b[39m\u001b[38;5;241m.\u001b[39m\u001b[38;5;18m__name__\u001b[39m\u001b[38;5;132;01m}\u001b[39;00m\u001b[38;5;124m: trainer tearing down\u001b[39m\u001b[38;5;124m\"\u001b[39m)\n\u001b[0;32m   1237\u001b[0m \u001b[38;5;28mself\u001b[39m\u001b[38;5;241m.\u001b[39m_teardown()\n",
      "File \u001b[1;32mD:\\venv\\lib\\site-packages\\pytorch_lightning\\trainer\\trainer.py:1320\u001b[0m, in \u001b[0;36mTrainer._run_stage\u001b[1;34m(self)\u001b[0m\n\u001b[0;32m   1318\u001b[0m     \u001b[38;5;28;01mreturn\u001b[39;00m \u001b[38;5;28mself\u001b[39m\u001b[38;5;241m.\u001b[39m_run_evaluate()\n\u001b[0;32m   1319\u001b[0m \u001b[38;5;28;01mif\u001b[39;00m \u001b[38;5;28mself\u001b[39m\u001b[38;5;241m.\u001b[39mpredicting:\n\u001b[1;32m-> 1320\u001b[0m     \u001b[38;5;28;01mreturn\u001b[39;00m \u001b[38;5;28;43mself\u001b[39;49m\u001b[38;5;241;43m.\u001b[39;49m\u001b[43m_run_predict\u001b[49m\u001b[43m(\u001b[49m\u001b[43m)\u001b[49m\n\u001b[0;32m   1321\u001b[0m \u001b[38;5;28;01mreturn\u001b[39;00m \u001b[38;5;28mself\u001b[39m\u001b[38;5;241m.\u001b[39m_run_train()\n",
      "File \u001b[1;32mD:\\venv\\lib\\site-packages\\pytorch_lightning\\trainer\\trainer.py:1379\u001b[0m, in \u001b[0;36mTrainer._run_predict\u001b[1;34m(self)\u001b[0m\n\u001b[0;32m   1377\u001b[0m \u001b[38;5;28mself\u001b[39m\u001b[38;5;241m.\u001b[39mpredict_loop\u001b[38;5;241m.\u001b[39mtrainer \u001b[38;5;241m=\u001b[39m \u001b[38;5;28mself\u001b[39m\n\u001b[0;32m   1378\u001b[0m \u001b[38;5;28;01mwith\u001b[39;00m torch\u001b[38;5;241m.\u001b[39mno_grad():\n\u001b[1;32m-> 1379\u001b[0m     \u001b[38;5;28;01mreturn\u001b[39;00m \u001b[38;5;28;43mself\u001b[39;49m\u001b[38;5;241;43m.\u001b[39;49m\u001b[43mpredict_loop\u001b[49m\u001b[38;5;241;43m.\u001b[39;49m\u001b[43mrun\u001b[49m\u001b[43m(\u001b[49m\u001b[43m)\u001b[49m\n",
      "File \u001b[1;32mD:\\venv\\lib\\site-packages\\pytorch_lightning\\loops\\base.py:204\u001b[0m, in \u001b[0;36mLoop.run\u001b[1;34m(self, *args, **kwargs)\u001b[0m\n\u001b[0;32m    202\u001b[0m \u001b[38;5;28;01mtry\u001b[39;00m:\n\u001b[0;32m    203\u001b[0m     \u001b[38;5;28mself\u001b[39m\u001b[38;5;241m.\u001b[39mon_advance_start(\u001b[38;5;241m*\u001b[39margs, \u001b[38;5;241m*\u001b[39m\u001b[38;5;241m*\u001b[39mkwargs)\n\u001b[1;32m--> 204\u001b[0m     \u001b[38;5;28mself\u001b[39m\u001b[38;5;241m.\u001b[39madvance(\u001b[38;5;241m*\u001b[39margs, \u001b[38;5;241m*\u001b[39m\u001b[38;5;241m*\u001b[39mkwargs)\n\u001b[0;32m    205\u001b[0m     \u001b[38;5;28mself\u001b[39m\u001b[38;5;241m.\u001b[39mon_advance_end()\n\u001b[0;32m    206\u001b[0m     \u001b[38;5;28mself\u001b[39m\u001b[38;5;241m.\u001b[39m_restarting \u001b[38;5;241m=\u001b[39m \u001b[38;5;28;01mFalse\u001b[39;00m\n",
      "File \u001b[1;32mD:\\venv\\lib\\site-packages\\pytorch_lightning\\loops\\dataloader\\prediction_loop.py:101\u001b[0m, in \u001b[0;36mPredictionLoop.advance\u001b[1;34m(self, *args, **kwargs)\u001b[0m\n\u001b[0;32m     98\u001b[0m dataloader_iter \u001b[38;5;241m=\u001b[39m \u001b[38;5;28menumerate\u001b[39m(dataloader)\n\u001b[0;32m     99\u001b[0m dl_max_batches \u001b[38;5;241m=\u001b[39m \u001b[38;5;28mself\u001b[39m\u001b[38;5;241m.\u001b[39mmax_batches[\u001b[38;5;28mself\u001b[39m\u001b[38;5;241m.\u001b[39mcurrent_dataloader_idx]\n\u001b[1;32m--> 101\u001b[0m dl_predictions, dl_batch_indices \u001b[38;5;241m=\u001b[39m \u001b[38;5;28;43mself\u001b[39;49m\u001b[38;5;241;43m.\u001b[39;49m\u001b[43mepoch_loop\u001b[49m\u001b[38;5;241;43m.\u001b[39;49m\u001b[43mrun\u001b[49m\u001b[43m(\u001b[49m\n\u001b[0;32m    102\u001b[0m \u001b[43m    \u001b[49m\u001b[43mdataloader_iter\u001b[49m\u001b[43m,\u001b[49m\u001b[43m \u001b[49m\u001b[38;5;28;43mself\u001b[39;49m\u001b[38;5;241;43m.\u001b[39;49m\u001b[43mcurrent_dataloader_idx\u001b[49m\u001b[43m,\u001b[49m\u001b[43m \u001b[49m\u001b[43mdl_max_batches\u001b[49m\u001b[43m,\u001b[49m\u001b[43m \u001b[49m\u001b[38;5;28;43mself\u001b[39;49m\u001b[38;5;241;43m.\u001b[39;49m\u001b[43mnum_dataloaders\u001b[49m\u001b[43m,\u001b[49m\u001b[43m \u001b[49m\u001b[38;5;28;43mself\u001b[39;49m\u001b[38;5;241;43m.\u001b[39;49m\u001b[43mreturn_predictions\u001b[49m\n\u001b[0;32m    103\u001b[0m \u001b[43m\u001b[49m\u001b[43m)\u001b[49m\n\u001b[0;32m    104\u001b[0m \u001b[38;5;28mself\u001b[39m\u001b[38;5;241m.\u001b[39mpredictions\u001b[38;5;241m.\u001b[39mappend(dl_predictions)\n\u001b[0;32m    105\u001b[0m \u001b[38;5;28mself\u001b[39m\u001b[38;5;241m.\u001b[39mepoch_batch_indices\u001b[38;5;241m.\u001b[39mappend(dl_batch_indices)\n",
      "File \u001b[1;32mD:\\venv\\lib\\site-packages\\pytorch_lightning\\loops\\base.py:204\u001b[0m, in \u001b[0;36mLoop.run\u001b[1;34m(self, *args, **kwargs)\u001b[0m\n\u001b[0;32m    202\u001b[0m \u001b[38;5;28;01mtry\u001b[39;00m:\n\u001b[0;32m    203\u001b[0m     \u001b[38;5;28mself\u001b[39m\u001b[38;5;241m.\u001b[39mon_advance_start(\u001b[38;5;241m*\u001b[39margs, \u001b[38;5;241m*\u001b[39m\u001b[38;5;241m*\u001b[39mkwargs)\n\u001b[1;32m--> 204\u001b[0m     \u001b[38;5;28mself\u001b[39m\u001b[38;5;241m.\u001b[39madvance(\u001b[38;5;241m*\u001b[39margs, \u001b[38;5;241m*\u001b[39m\u001b[38;5;241m*\u001b[39mkwargs)\n\u001b[0;32m    205\u001b[0m     \u001b[38;5;28mself\u001b[39m\u001b[38;5;241m.\u001b[39mon_advance_end()\n\u001b[0;32m    206\u001b[0m     \u001b[38;5;28mself\u001b[39m\u001b[38;5;241m.\u001b[39m_restarting \u001b[38;5;241m=\u001b[39m \u001b[38;5;28;01mFalse\u001b[39;00m\n",
      "File \u001b[1;32mD:\\venv\\lib\\site-packages\\pytorch_lightning\\loops\\epoch\\prediction_epoch_loop.py:104\u001b[0m, in \u001b[0;36mPredictionEpochLoop.advance\u001b[1;34m(self, dataloader_iter, dataloader_idx, dl_max_batches, num_dataloaders, return_predictions)\u001b[0m\n\u001b[0;32m    100\u001b[0m batch \u001b[38;5;241m=\u001b[39m \u001b[38;5;28mself\u001b[39m\u001b[38;5;241m.\u001b[39mtrainer\u001b[38;5;241m.\u001b[39m_call_strategy_hook(\u001b[38;5;124m\"\u001b[39m\u001b[38;5;124mbatch_to_device\u001b[39m\u001b[38;5;124m\"\u001b[39m, batch, dataloader_idx\u001b[38;5;241m=\u001b[39mdataloader_idx)\n\u001b[0;32m    102\u001b[0m \u001b[38;5;28mself\u001b[39m\u001b[38;5;241m.\u001b[39mbatch_progress\u001b[38;5;241m.\u001b[39mincrement_ready()\n\u001b[1;32m--> 104\u001b[0m \u001b[38;5;28;43mself\u001b[39;49m\u001b[38;5;241;43m.\u001b[39;49m\u001b[43m_predict_step\u001b[49m\u001b[43m(\u001b[49m\u001b[43mbatch\u001b[49m\u001b[43m,\u001b[49m\u001b[43m \u001b[49m\u001b[43mbatch_idx\u001b[49m\u001b[43m,\u001b[49m\u001b[43m \u001b[49m\u001b[43mdataloader_idx\u001b[49m\u001b[43m)\u001b[49m\n",
      "File \u001b[1;32mD:\\venv\\lib\\site-packages\\pytorch_lightning\\loops\\epoch\\prediction_epoch_loop.py:132\u001b[0m, in \u001b[0;36mPredictionEpochLoop._predict_step\u001b[1;34m(self, batch, batch_idx, dataloader_idx)\u001b[0m\n\u001b[0;32m    128\u001b[0m \u001b[38;5;28mself\u001b[39m\u001b[38;5;241m.\u001b[39mtrainer\u001b[38;5;241m.\u001b[39m_call_lightning_module_hook(\u001b[38;5;124m\"\u001b[39m\u001b[38;5;124mon_predict_batch_start\u001b[39m\u001b[38;5;124m\"\u001b[39m, batch, batch_idx, dataloader_idx)\n\u001b[0;32m    130\u001b[0m \u001b[38;5;28mself\u001b[39m\u001b[38;5;241m.\u001b[39mbatch_progress\u001b[38;5;241m.\u001b[39mincrement_started()\n\u001b[1;32m--> 132\u001b[0m predictions \u001b[38;5;241m=\u001b[39m \u001b[38;5;28;43mself\u001b[39;49m\u001b[38;5;241;43m.\u001b[39;49m\u001b[43mtrainer\u001b[49m\u001b[38;5;241;43m.\u001b[39;49m\u001b[43m_call_strategy_hook\u001b[49m\u001b[43m(\u001b[49m\u001b[38;5;124;43m\"\u001b[39;49m\u001b[38;5;124;43mpredict_step\u001b[39;49m\u001b[38;5;124;43m\"\u001b[39;49m\u001b[43m,\u001b[49m\u001b[43m \u001b[49m\u001b[38;5;241;43m*\u001b[39;49m\u001b[43mstep_kwargs\u001b[49m\u001b[38;5;241;43m.\u001b[39;49m\u001b[43mvalues\u001b[49m\u001b[43m(\u001b[49m\u001b[43m)\u001b[49m\u001b[43m)\u001b[49m\n\u001b[0;32m    134\u001b[0m \u001b[38;5;28mself\u001b[39m\u001b[38;5;241m.\u001b[39mbatch_progress\u001b[38;5;241m.\u001b[39mincrement_processed()\n\u001b[0;32m    136\u001b[0m \u001b[38;5;28;01mif\u001b[39;00m predictions \u001b[38;5;129;01mis\u001b[39;00m \u001b[38;5;28;01mNone\u001b[39;00m:\n",
      "File \u001b[1;32mD:\\venv\\lib\\site-packages\\pytorch_lightning\\trainer\\trainer.py:1763\u001b[0m, in \u001b[0;36mTrainer._call_strategy_hook\u001b[1;34m(self, hook_name, *args, **kwargs)\u001b[0m\n\u001b[0;32m   1760\u001b[0m     \u001b[38;5;28;01mreturn\u001b[39;00m\n\u001b[0;32m   1762\u001b[0m \u001b[38;5;28;01mwith\u001b[39;00m \u001b[38;5;28mself\u001b[39m\u001b[38;5;241m.\u001b[39mprofiler\u001b[38;5;241m.\u001b[39mprofile(\u001b[38;5;124mf\u001b[39m\u001b[38;5;124m\"\u001b[39m\u001b[38;5;124m[Strategy]\u001b[39m\u001b[38;5;132;01m{\u001b[39;00m\u001b[38;5;28mself\u001b[39m\u001b[38;5;241m.\u001b[39mstrategy\u001b[38;5;241m.\u001b[39m\u001b[38;5;18m__class__\u001b[39m\u001b[38;5;241m.\u001b[39m\u001b[38;5;18m__name__\u001b[39m\u001b[38;5;132;01m}\u001b[39;00m\u001b[38;5;124m.\u001b[39m\u001b[38;5;132;01m{\u001b[39;00mhook_name\u001b[38;5;132;01m}\u001b[39;00m\u001b[38;5;124m\"\u001b[39m):\n\u001b[1;32m-> 1763\u001b[0m     output \u001b[38;5;241m=\u001b[39m fn(\u001b[38;5;241m*\u001b[39margs, \u001b[38;5;241m*\u001b[39m\u001b[38;5;241m*\u001b[39mkwargs)\n\u001b[0;32m   1765\u001b[0m \u001b[38;5;66;03m# restore current_fx when nested context\u001b[39;00m\n\u001b[0;32m   1766\u001b[0m pl_module\u001b[38;5;241m.\u001b[39m_current_fx_name \u001b[38;5;241m=\u001b[39m prev_fx_name\n",
      "File \u001b[1;32mD:\\venv\\lib\\site-packages\\pytorch_lightning\\strategies\\strategy.py:360\u001b[0m, in \u001b[0;36mStrategy.predict_step\u001b[1;34m(self, *args, **kwargs)\u001b[0m\n\u001b[0;32m    355\u001b[0m \u001b[38;5;124;03m\"\"\"The actual predict step.\u001b[39;00m\n\u001b[0;32m    356\u001b[0m \n\u001b[0;32m    357\u001b[0m \u001b[38;5;124;03mSee :meth:`~pytorch_lightning.core.lightning.LightningModule.predict_step` for more details\u001b[39;00m\n\u001b[0;32m    358\u001b[0m \u001b[38;5;124;03m\"\"\"\u001b[39;00m\n\u001b[0;32m    359\u001b[0m \u001b[38;5;28;01mwith\u001b[39;00m \u001b[38;5;28mself\u001b[39m\u001b[38;5;241m.\u001b[39mprecision_plugin\u001b[38;5;241m.\u001b[39mpredict_step_context():\n\u001b[1;32m--> 360\u001b[0m     \u001b[38;5;28;01mreturn\u001b[39;00m \u001b[38;5;28mself\u001b[39m\u001b[38;5;241m.\u001b[39mmodel\u001b[38;5;241m.\u001b[39mpredict_step(\u001b[38;5;241m*\u001b[39margs, \u001b[38;5;241m*\u001b[39m\u001b[38;5;241m*\u001b[39mkwargs)\n",
      "Input \u001b[1;32mIn [6]\u001b[0m, in \u001b[0;36mLitAutoEncoder.predict_step\u001b[1;34m(self, pred_batch, batch_idx)\u001b[0m\n\u001b[0;32m    120\u001b[0m \u001b[38;5;28;01mdef\u001b[39;00m \u001b[38;5;21mpredict_step\u001b[39m(\u001b[38;5;28mself\u001b[39m, pred_batch, batch_idx):\n\u001b[1;32m--> 121\u001b[0m     x, \u001b[38;5;241m=\u001b[39m pred_batch\n\u001b[0;32m    122\u001b[0m     pred \u001b[38;5;241m=\u001b[39m \u001b[38;5;28mself\u001b[39m(x)\n\u001b[0;32m    123\u001b[0m     \u001b[38;5;28;01mreturn\u001b[39;00m pred\n",
      "\u001b[1;31mValueError\u001b[0m: too many values to unpack (expected 1)"
     ]
    }
   ],
   "source": [
    "#Pytorch Lightning\n",
    "#trainer.test(aet, dataloaders=data_loader)\n",
    "#X_test_reduit_torch = cat(trainer.predict(aet, data_loader), axis=0).cpu().numpy()\n",
    "\n",
    "#Pytorch Lightning\n",
    "# trainer.test(aet, dataloaders=data_module)\n",
    "X_test_reduit_torch = trainer.predict(aet, data_loader)\n",
    "X_test_reduit_torch = torch.cat(X_test_reduit_torch, axis=0).cpu().numpy()"
   ]
  },
  {
   "cell_type": "code",
   "execution_count": null,
   "metadata": {
    "pycharm": {
     "name": "#%%\n"
    }
   },
   "outputs": [],
   "source": [
    "#Tensorflow\n",
    "aeke = Sequential(aek.layers[:-2])\n",
    "X_train_reduit_keras, X_test_reduit_keras = aeke.predict(X_train), aeke.predict(X_test)"
   ]
  },
  {
   "cell_type": "markdown",
   "metadata": {
    "pycharm": {
     "name": "#%% md\n"
    }
   },
   "source": [
    "## 5 - Visualization"
   ]
  },
  {
   "cell_type": "code",
   "execution_count": null,
   "metadata": {
    "pycharm": {
     "name": "#%%\n"
    },
    "tags": []
   },
   "outputs": [],
   "source": [
    "fig, (ax1, ax2) = plt.subplots(1, 2, figsize=(16, 6))\n",
    "ko = np.where(y_test==1, 1,0).sum()\n",
    "ok = np.where(y_test==0, 1,0).sum()\n",
    "y_tst =  [['OK','KO'][int(v)] for v in y_test]\n",
    "\n",
    "txt=str(round(100*ko/(ko+ok),1))+'% ('+str(ko)+'/'+str(ok)+')'\n",
    "\n",
    "fig.suptitle(\"CLASSIFICATION OK vs KO = \"+txt)\n",
    "plt.xlabel(\"$pc_1$\")\n",
    "plt.ylabel(\"$pc_2$\")\n",
    "\n",
    "plot(x=X_test_reduit_torch[:,0], y=X_test_reduit_torch[:,1], hue=y_tst, ec=None, ax=ax1)\n",
    "plot(x=X_test_reduit_keras[:,0], y=X_test_reduit_keras[:,1], hue=y_tst, ec=None, ax=ax2)\n"
   ]
  },
  {
   "cell_type": "code",
   "execution_count": null,
   "metadata": {
    "pycharm": {
     "name": "#%%\n"
    }
   },
   "outputs": [],
   "source": []
  }
 ],
 "metadata": {
  "kernelspec": {
   "display_name": "Python 3 (ipykernel)",
   "language": "python",
   "name": "python3"
  },
  "language_info": {
   "codemirror_mode": {
    "name": "ipython",
    "version": 3
   },
   "file_extension": ".py",
   "mimetype": "text/x-python",
   "name": "python",
   "nbconvert_exporter": "python",
   "pygments_lexer": "ipython3",
   "version": "3.10.4"
  },
  "toc-showcode": false
 },
 "nbformat": 4,
 "nbformat_minor": 4
}
