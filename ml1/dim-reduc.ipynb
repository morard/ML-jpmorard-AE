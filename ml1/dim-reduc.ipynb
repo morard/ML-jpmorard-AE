{
 "cells": [
  {
   "cell_type": "markdown",
   "metadata": {
    "pycharm": {
     "name": "#%% md\n"
    },
    "tags": []
   },
   "source": [
    " # __[Dimension Reduction](https://medium.com/accel-ai/machine-learning-algorithms-cheat-sheet-990104aaaabc)__ V1 - Jean-Pierre Morard\n",
    "1- PCA ScikitLearn __[PCA](https://www.cs.cmu.edu/~elaw/papers/pca.pdf)__ <br>\n",
    "2- Autoencoder PYTORCH Ligthning<br>\n",
    "3- Autoencoder KERAS Tensorflow <br>\n",
    "4- Prédictions <br>\n",
    "5- Visualisation Seaborn <br>\n",
    "7- __[SVD](https://www.youtube.com/watch?v=gXbThCXjZFM)__ __[Reza Bagheri Lab](https://github.com/reza-bagheri/SVD_article/blob/master/SVD-note-book.ipynb)__ <br>\n",
    "\n",
    "[<img src=\"doc/Dim-Reduc-Alternatives.png\" title=\"towardsdatascience.com\" width=\"250\"/>](https://towardsdatascience.com/dimensionality-reduction-cheatsheet-15060fee3aa)\n",
    "[<img src=\"doc/Fraction-of-Papers-Using-PyTorch-vs.-TensorFlow.png\" title=\"www.assemblyai.com\" width=\"350\"/>](https://www.assemblyai.com/blog/pytorch-vs-tensorflow-in-2022/)<br>"
   ]
  },
  {
   "cell_type": "markdown",
   "metadata": {
    "pycharm": {
     "name": "#%% md\n"
    },
    "tags": []
   },
   "source": [
    "#### Run this notebook\n",
    "[![](https://colab.research.google.com/assets/colab-badge.svg)](https://colab.research.google.com/github/morard/abyx/blob/main/ml1/dim-reduc.ipynb) or [![Binder](https://mybinder.org/badge_logo.svg)](https://mybinder.org/v2/gh/morard/abyx/HEAD?labpath=ml1%2Fdim-reduc.ipynb)\n",
    " or __[Download Winpython64-3.10.4.0.exe](http://l.sourceforge.net/f/a/39FiVm9LfkUWRzvQpamCdw~~/AABcDgA~/RgRkWPe2P0R9aHR0cHM6Ly9zb3VyY2Vmb3JnZS5uZXQvcHJvamVjdHMvd2lucHl0aG9uL2ZpbGVzL2xhdGVzdC9kb3dubG9hZD91dG1fY2FtcGFpZ249dXBkYXRlciZ1dG1fbWVkaXVtPWVtYWlsJnV0bV9zb3VyY2U9c3Vic2NyaWJlcnNXA3NwY0IKYnE2xHdiT7g-xlIcamVhbi5waWVycmUubW9yYXJkQGdtYWlsLmNvbVgEAAAAAQ~~)__ __[+ requirement](requirement.txt)__<br>"
   ]
  },
  {
   "cell_type": "markdown",
   "metadata": {
    "pycharm": {
     "name": "#%% md\n"
    },
    "tags": []
   },
   "source": [
    "## 1 - PCA with Sci-Kit-Learn"
   ]
  },
  {
   "cell_type": "markdown",
   "metadata": {
    "pycharm": {
     "name": "#%% md\n"
    },
    "tags": []
   },
   "source": [
    "![alt text](doc/pca.png \"PCA\") \n",
    "<br> __[Source: Shervine Amidi - Stanford- Machine Learning cs-229](https://stanford.edu/~shervine/teaching/cs-229/)__ <br>"
   ]
  },
  {
   "cell_type": "code",
   "execution_count": null,
   "metadata": {},
   "outputs": [],
   "source": [
    "# with binder\n",
    "!pip install matplotlib pandas seaborn sklearn"
   ]
  },
  {
   "cell_type": "code",
   "execution_count": 10,
   "metadata": {
    "pycharm": {
     "name": "#%%\n"
    }
   },
   "outputs": [
    {
     "data": {
      "text/html": [
       "<div>\n",
       "<style scoped>\n",
       "    .dataframe tbody tr th:only-of-type {\n",
       "        vertical-align: middle;\n",
       "    }\n",
       "\n",
       "    .dataframe tbody tr th {\n",
       "        vertical-align: top;\n",
       "    }\n",
       "\n",
       "    .dataframe thead tr th {\n",
       "        text-align: left;\n",
       "    }\n",
       "</style>\n",
       "<table border=\"1\" class=\"dataframe\">\n",
       "  <thead>\n",
       "    <tr>\n",
       "      <th></th>\n",
       "      <th colspan=\"3\" halign=\"left\">A</th>\n",
       "      <th colspan=\"3\" halign=\"left\">B</th>\n",
       "      <th>C1</th>\n",
       "      <th>C2</th>\n",
       "      <th>D</th>\n",
       "      <th colspan=\"2\" halign=\"left\">AC</th>\n",
       "      <th colspan=\"2\" halign=\"left\">BC</th>\n",
       "    </tr>\n",
       "    <tr>\n",
       "      <th></th>\n",
       "      <th>x</th>\n",
       "      <th>y</th>\n",
       "      <th>z</th>\n",
       "      <th>x</th>\n",
       "      <th>y</th>\n",
       "      <th>z</th>\n",
       "      <th>AxB</th>\n",
       "      <th>A_B</th>\n",
       "      <th>id</th>\n",
       "      <th>r</th>\n",
       "      <th>s</th>\n",
       "      <th>r</th>\n",
       "      <th>s</th>\n",
       "    </tr>\n",
       "  </thead>\n",
       "  <tbody>\n",
       "    <tr>\n",
       "      <th>0</th>\n",
       "      <td>0.214624</td>\n",
       "      <td>0.342713</td>\n",
       "      <td>0.281241</td>\n",
       "      <td>0.330393</td>\n",
       "      <td>-0.873902</td>\n",
       "      <td>-0.999981</td>\n",
       "      <td>-0.509823</td>\n",
       "      <td>0.0</td>\n",
       "      <td>0.0</td>\n",
       "      <td>-0.307221</td>\n",
       "      <td>-0.341703</td>\n",
       "      <td>-0.334505</td>\n",
       "      <td>-0.718438</td>\n",
       "    </tr>\n",
       "    <tr>\n",
       "      <th>1</th>\n",
       "      <td>0.374657</td>\n",
       "      <td>0.442125</td>\n",
       "      <td>0.034766</td>\n",
       "      <td>0.840874</td>\n",
       "      <td>0.934191</td>\n",
       "      <td>-0.902707</td>\n",
       "      <td>0.696686</td>\n",
       "      <td>0.0</td>\n",
       "      <td>1.0</td>\n",
       "      <td>-0.312294</td>\n",
       "      <td>-0.241729</td>\n",
       "      <td>1.218013</td>\n",
       "      <td>0.336124</td>\n",
       "    </tr>\n",
       "    <tr>\n",
       "      <th>2</th>\n",
       "      <td>-0.199076</td>\n",
       "      <td>0.441289</td>\n",
       "      <td>-0.345235</td>\n",
       "      <td>-0.307647</td>\n",
       "      <td>-0.340302</td>\n",
       "      <td>0.997552</td>\n",
       "      <td>-0.433316</td>\n",
       "      <td>0.0</td>\n",
       "      <td>0.0</td>\n",
       "      <td>-0.403812</td>\n",
       "      <td>0.405262</td>\n",
       "      <td>-0.670887</td>\n",
       "      <td>0.338439</td>\n",
       "    </tr>\n",
       "  </tbody>\n",
       "</table>\n",
       "</div>"
      ],
      "text/plain": [
       "          A                             B                            C1   C2  \\\n",
       "          x         y         z         x         y         z       AxB  A_B   \n",
       "0  0.214624  0.342713  0.281241  0.330393 -0.873902 -0.999981 -0.509823  0.0   \n",
       "1  0.374657  0.442125  0.034766  0.840874  0.934191 -0.902707  0.696686  0.0   \n",
       "2 -0.199076  0.441289 -0.345235 -0.307647 -0.340302  0.997552 -0.433316  0.0   \n",
       "\n",
       "     D        AC                  BC            \n",
       "    id         r         s         r         s  \n",
       "0  0.0 -0.307221 -0.341703 -0.334505 -0.718438  \n",
       "1  1.0 -0.312294 -0.241729  1.218013  0.336124  \n",
       "2  0.0 -0.403812  0.405262 -0.670887  0.338439  "
      ]
     },
     "metadata": {},
     "output_type": "display_data"
    },
    {
     "data": {
      "text/plain": [
       "<AxesSubplot:>"
      ]
     },
     "execution_count": 10,
     "metadata": {},
     "output_type": "execute_result"
    },
    {
     "data": {
      "image/png": "[encoded data removed]",
      "text/plain": [
       "<Figure size 1152x432 with 3 Axes>"
      ]
     },
     "metadata": {
      "needs_background": "light"
     },
     "output_type": "display_data"
    }
   ],
   "source": [
    "import matplotlib.pyplot as plt\n",
    "import numpy as np\n",
    "import pandas as pd\n",
    "from seaborn import scatterplot as plot\n",
    "from seaborn import boxplot as boxplot\n",
    "from seaborn import heatmap as heatplot\n",
    "from sklearn.model_selection import train_test_split\n",
    "from datetime import datetime\n",
    "from sklearn.decomposition import PCA\n",
    "from os import path\n",
    "from shutil import rmtree\n",
    "\n",
    "def mkdf(k):\n",
    "    global pca\n",
    "    ar = np.zeros((k, 13), float)\n",
    "    ar[:, :3], ar[:, 3:6] = .5 * np.cos(2 * np.pi * np.random.rand(k, 3)), np.cos(2 * np.pi * np.random.rand(k, 3))\n",
    "    ar[:, 6] = np.einsum('ij,ij->i', ar[:, :3], ar[:, 3:6])\n",
    "    ar[:, 7] = (np.abs(np.trunc(ar[:, 6]))).astype(int)\n",
    "    ar[:, 8] = np.random.randint(0, 3, k)\n",
    "    ar[:, 9:11], ar[:, 11:13] = pca.fit_transform(ar[:, :3]), pca.fit_transform(ar[:, 3:6])\n",
    "    df1, df2  = pd.DataFrame(ar[:, :3], columns=['x', 'y', 'z']), pd.DataFrame(ar[:, 3:6], columns=['x', 'y', 'z'])\n",
    "    df3 = pd.DataFrame(ar[:, 6], columns=['AxB'])\n",
    "    df4 = pd.DataFrame(ar[:, 7], columns=['A_B'])\n",
    "    df5 = pd.DataFrame(ar[:, 8], columns=['id'])\n",
    "    df6, df7 = pd.DataFrame(ar[:, 9:11], columns=['r', 's']), pd.DataFrame(ar[:, 11:13], columns=['r', 's'])\n",
    "    return pd.concat([df1, df2, df3, df4, df5, df6, df7], axis=1, keys=['A', 'B', 'C1', 'C2', 'D', 'AC', 'BC'])\n",
    "\n",
    "nv, npc, n, p = 3, 2, 10, 100\n",
    "pca = PCA(n_components=npc)\n",
    "\n",
    "df = pd.concat([mkdf(p) for i in np.arange(n)])\n",
    "df.index = np.arange(n * p)\n",
    "display (df.head(3))\n",
    "\n",
    "log = 'lightning_logs'\n",
    "if path.isdir(log):\n",
    "    rmtree(log)\n",
    "\n",
    "data = 'ABC.csv'\n",
    "#df.columns = df.columns.to_flat_index()\n",
    "df.to_csv(data, index=False)\n",
    "\n",
    "fig, (ax1, ax2) = plt.subplots(1, 2, figsize=(16, 6))\n",
    "txt = ','.join(df.A.columns.values) + ' -> ' + ','.join(df.AC.columns.values)\n",
    "fig.suptitle(f'PCA for dimension reduction  {txt}')\n",
    "C2_txt =  [['OK','KO'][int(v)] for v in df.C2.A_B.values]\n",
    "plot(x=df.AC.r, y=df.AC.s, hue=C2_txt, palette=['red', 'blue'], ec=None, ax=ax1)\n",
    "\n",
    "df.C2.A_B.describe()\n",
    "\n",
    "for i in range(nv):\n",
    "    ax1.arrow(0, 0,  pca.components_[0, i], pca.components_[1, i], alpha = 0.5)\n",
    "    ax1.text(pca.components_[0,i]*1.1, pca.components_[1,i]*1.1, df.A.columns[i], color='g')\n",
    "\n",
    "loadings_df = pd.DataFrame(dict(zip(df.AC.columns, pca.components_)),index= df.A.columns.values)\n",
    "heatplot(loadings_df, annot=True, cmap='Spectral', ax=ax2)"
   ]
  },
  {
   "cell_type": "code",
   "execution_count": 34,
   "metadata": {},
   "outputs": [
    {
     "name": "stdout",
     "output_type": "stream",
     "text": [
      "/bin/bash: sudo: command not found\n",
      "Requirement already satisfied: matplotlib in /srv/conda/envs/notebook/lib/python3.7/site-packages (3.5.2)\n",
      "Requirement already satisfied: pandas in /srv/conda/envs/notebook/lib/python3.7/site-packages (1.3.5)\n",
      "Requirement already satisfied: seaborn in /srv/conda/envs/notebook/lib/python3.7/site-packages (0.11.2)\n",
      "Requirement already satisfied: sklearn in /srv/conda/envs/notebook/lib/python3.7/site-packages (0.0)\n",
      "Requirement already satisfied: numpy>=1.17 in /srv/conda/envs/notebook/lib/python3.7/site-packages (from matplotlib) (1.21.6)\n",
      "Requirement already satisfied: python-dateutil>=2.7 in /srv/conda/envs/notebook/lib/python3.7/site-packages (from matplotlib) (2.8.2)\n",
      "Requirement already satisfied: cycler>=0.10 in /srv/conda/envs/notebook/lib/python3.7/site-packages (from matplotlib) (0.11.0)\n",
      "Requirement already satisfied: pillow>=6.2.0 in /srv/conda/envs/notebook/lib/python3.7/site-packages (from matplotlib) (9.1.1)\n",
      "Requirement already satisfied: fonttools>=4.22.0 in /srv/conda/envs/notebook/lib/python3.7/site-packages (from matplotlib) (4.33.3)\n",
      "Requirement already satisfied: kiwisolver>=1.0.1 in /srv/conda/envs/notebook/lib/python3.7/site-packages (from matplotlib) (1.4.2)\n",
      "Requirement already satisfied: pyparsing>=2.2.1 in /srv/conda/envs/notebook/lib/python3.7/site-packages (from matplotlib) (3.0.7)\n",
      "Requirement already satisfied: packaging>=20.0 in /srv/conda/envs/notebook/lib/python3.7/site-packages (from matplotlib) (21.3)\n",
      "Requirement already satisfied: pytz>=2017.3 in /srv/conda/envs/notebook/lib/python3.7/site-packages (from pandas) (2021.3)\n",
      "Requirement already satisfied: scipy>=1.0 in /srv/conda/envs/notebook/lib/python3.7/site-packages (from seaborn) (1.7.3)\n",
      "Requirement already satisfied: scikit-learn in /srv/conda/envs/notebook/lib/python3.7/site-packages (from sklearn) (1.0.2)\n",
      "Requirement already satisfied: typing-extensions in /srv/conda/envs/notebook/lib/python3.7/site-packages (from kiwisolver>=1.0.1->matplotlib) (4.0.1)\n",
      "Requirement already satisfied: six>=1.5 in /srv/conda/envs/notebook/lib/python3.7/site-packages (from python-dateutil>=2.7->matplotlib) (1.16.0)\n",
      "Requirement already satisfied: joblib>=0.11 in /srv/conda/envs/notebook/lib/python3.7/site-packages (from scikit-learn->sklearn) (1.1.0)\n",
      "Requirement already satisfied: threadpoolctl>=2.0.0 in /srv/conda/envs/notebook/lib/python3.7/site-packages (from scikit-learn->sklearn) (3.1.0)\n"
     ]
    }
   ],
   "source": [
    "!pip install matplotlib pandas seaborn sklearn"
   ]
  },
  {
   "cell_type": "code",
   "execution_count": 11,
   "metadata": {
    "pycharm": {
     "name": "#%%\n"
    }
   },
   "outputs": [
    {
     "data": {
      "text/html": [
       "<div>\n",
       "<style scoped>\n",
       "    .dataframe tbody tr th:only-of-type {\n",
       "        vertical-align: middle;\n",
       "    }\n",
       "\n",
       "    .dataframe tbody tr th {\n",
       "        vertical-align: top;\n",
       "    }\n",
       "\n",
       "    .dataframe thead th {\n",
       "        text-align: right;\n",
       "    }\n",
       "</style>\n",
       "<table border=\"1\" class=\"dataframe\">\n",
       "  <thead>\n",
       "    <tr style=\"text-align: right;\">\n",
       "      <th></th>\n",
       "      <th>x</th>\n",
       "      <th>y</th>\n",
       "      <th>z</th>\n",
       "    </tr>\n",
       "  </thead>\n",
       "  <tbody>\n",
       "    <tr>\n",
       "      <th>count</th>\n",
       "      <td>1000.000000</td>\n",
       "      <td>1000.000000</td>\n",
       "      <td>1000.000000</td>\n",
       "    </tr>\n",
       "    <tr>\n",
       "      <th>mean</th>\n",
       "      <td>0.011930</td>\n",
       "      <td>-0.012975</td>\n",
       "      <td>0.016457</td>\n",
       "    </tr>\n",
       "    <tr>\n",
       "      <th>std</th>\n",
       "      <td>0.350664</td>\n",
       "      <td>0.356152</td>\n",
       "      <td>0.348156</td>\n",
       "    </tr>\n",
       "    <tr>\n",
       "      <th>min</th>\n",
       "      <td>-0.499991</td>\n",
       "      <td>-0.499993</td>\n",
       "      <td>-0.499965</td>\n",
       "    </tr>\n",
       "    <tr>\n",
       "      <th>25%</th>\n",
       "      <td>-0.335456</td>\n",
       "      <td>-0.360311</td>\n",
       "      <td>-0.334082</td>\n",
       "    </tr>\n",
       "    <tr>\n",
       "      <th>50%</th>\n",
       "      <td>0.019239</td>\n",
       "      <td>-0.043730</td>\n",
       "      <td>0.056990</td>\n",
       "    </tr>\n",
       "    <tr>\n",
       "      <th>75%</th>\n",
       "      <td>0.366932</td>\n",
       "      <td>0.342125</td>\n",
       "      <td>0.349322</td>\n",
       "    </tr>\n",
       "    <tr>\n",
       "      <th>max</th>\n",
       "      <td>0.500000</td>\n",
       "      <td>0.499999</td>\n",
       "      <td>0.500000</td>\n",
       "    </tr>\n",
       "  </tbody>\n",
       "</table>\n",
       "</div>"
      ],
      "text/plain": [
       "                 x            y            z\n",
       "count  1000.000000  1000.000000  1000.000000\n",
       "mean      0.011930    -0.012975     0.016457\n",
       "std       0.350664     0.356152     0.348156\n",
       "min      -0.499991    -0.499993    -0.499965\n",
       "25%      -0.335456    -0.360311    -0.334082\n",
       "50%       0.019239    -0.043730     0.056990\n",
       "75%       0.366932     0.342125     0.349322\n",
       "max       0.500000     0.499999     0.500000"
      ]
     },
     "execution_count": 11,
     "metadata": {},
     "output_type": "execute_result"
    }
   ],
   "source": [
    "y = df.C2.A_B\n",
    "X = df.A\n",
    "#X = pd.merge(df.A, df.C1.AxB, right_index = True, left_index = True)\n",
    "\n",
    "X_train, X_test, y_train, y_test = train_test_split(X.values, y, test_size=.2, random_state=42)\n",
    "\n",
    "# from sklearn.preprocessing import StandardScaler\n",
    "# scaler = StandardScaler()\n",
    "# scaler.fit(X)\n",
    "# X=scaler.transform(X) \n",
    "\n",
    "# Check if data are normalized\n",
    "\n",
    "X.describe()"
   ]
  },
  {
   "cell_type": "markdown",
   "metadata": {
    "pycharm": {
     "name": "#%% md\n"
    }
   },
   "source": [
    "## 2 - AUTOENCODER with Pytorch Lightning"
   ]
  },
  {
   "cell_type": "markdown",
   "metadata": {
    "pycharm": {
     "name": "#%% md\n"
    },
    "tags": []
   },
   "source": [
    "![alt text](doc/nn.png \"Title\")\n",
    "<br> __[Source: Shervine Amidi - Stanford- Machine Learning cs-229](https://stanford.edu/~shervine/teaching/cs-229/)__"
   ]
  },
  {
   "cell_type": "code",
   "execution_count": 23,
   "metadata": {},
   "outputs": [
    {
     "name": "stdout",
     "output_type": "stream",
     "text": [
      "Requirement already satisfied: tensorflow in /srv/conda/envs/notebook/lib/python3.7/site-packages (2.9.0)\n",
      "Requirement already satisfied: torch in /srv/conda/envs/notebook/lib/python3.7/site-packages (1.11.0)\n",
      "Requirement already satisfied: pytorch_lightning in /srv/conda/envs/notebook/lib/python3.7/site-packages (1.6.3)\n",
      "\u001b[31mERROR: Could not find a version that satisfies the requirement nvidia-cuda-toolkit (from versions: none)\u001b[0m\n",
      "\u001b[31mERROR: No matching distribution found for nvidia-cuda-toolkit\u001b[0m\n"
     ]
    }
   ],
   "source": [
    "!pip install tensorflow torch pytorch_lightning"
   ]
  },
  {
   "cell_type": "code",
   "execution_count": 18,
   "metadata": {
    "pycharm": {
     "name": "#%%\n"
    }
   },
   "outputs": [
    {
     "name": "stderr",
     "output_type": "stream",
     "text": [
      "Global seed set to 42\n",
      "Trainer already configured with model summary callbacks: [<class 'pytorch_lightning.callbacks.model_summary.ModelSummary'>]. Skipping setting a default `ModelSummary` callback.\n",
      "GPU available: False, used: False\n",
      "TPU available: False, using: 0 TPU cores\n",
      "IPU available: False, using: 0 IPUs\n",
      "HPU available: False, using: 0 HPUs\n",
      "Missing logger folder: /home/jovyan/ml1/lightning_logs\n",
      "\n",
      "  | Name      | Type       | Params\n",
      "-----------------------------------------\n",
      "0 | encoder   | Sequential | 14    \n",
      "1 | encoder.0 | Linear     | 8     \n",
      "2 | encoder.1 | ELU        | 0     \n",
      "3 | encoder.2 | Linear     | 6     \n",
      "4 | decoder   | Sequential | 15    \n",
      "5 | decoder.0 | Linear     | 6     \n",
      "6 | decoder.1 | ELU        | 0     \n",
      "7 | decoder.2 | Linear     | 9     \n",
      "8 | decoder.3 | Sigmoid    | 0     \n",
      "-----------------------------------------\n",
      "29        Trainable params\n",
      "0         Non-trainable params\n",
      "29        Total params\n",
      "0.000     Total estimated model params size (MB)\n"
     ]
    },
    {
     "data": {
      "application/vnd.jupyter.widget-view+json": {
       "model_id": "",
       "version_major": 2,
       "version_minor": 0
      },
      "text/plain": [
       "Sanity Checking: 0it [00:00, ?it/s]"
      ]
     },
     "metadata": {},
     "output_type": "display_data"
    },
    {
     "data": {
      "application/vnd.jupyter.widget-view+json": {
       "model_id": "e3e48ca10f584604afe4f6e728a8979e",
       "version_major": 2,
       "version_minor": 0
      },
      "text/plain": [
       "Training: 0it [00:00, ?it/s]"
      ]
     },
     "metadata": {},
     "output_type": "display_data"
    },
    {
     "name": "stderr",
     "output_type": "stream",
     "text": [
      "2022-05-20 06:58:35.714388: W tensorflow/stream_executor/platform/default/dso_loader.cc:64] Could not load dynamic library 'libcudart.so.11.0'; dlerror: libcudart.so.11.0: cannot open shared object file: No such file or directory\n",
      "2022-05-20 06:58:35.714451: I tensorflow/stream_executor/cuda/cudart_stub.cc:29] Ignore above cudart dlerror if you do not have a GPU set up on your machine.\n"
     ]
    },
    {
     "data": {
      "application/vnd.jupyter.widget-view+json": {
       "model_id": "",
       "version_major": 2,
       "version_minor": 0
      },
      "text/plain": [
       "Validation: 0it [00:00, ?it/s]"
      ]
     },
     "metadata": {},
     "output_type": "display_data"
    },
    {
     "data": {
      "application/vnd.jupyter.widget-view+json": {
       "model_id": "",
       "version_major": 2,
       "version_minor": 0
      },
      "text/plain": [
       "Validation: 0it [00:00, ?it/s]"
      ]
     },
     "metadata": {},
     "output_type": "display_data"
    },
    {
     "data": {
      "application/vnd.jupyter.widget-view+json": {
       "model_id": "",
       "version_major": 2,
       "version_minor": 0
      },
      "text/plain": [
       "Validation: 0it [00:00, ?it/s]"
      ]
     },
     "metadata": {},
     "output_type": "display_data"
    },
    {
     "data": {
      "application/vnd.jupyter.widget-view+json": {
       "model_id": "",
       "version_major": 2,
       "version_minor": 0
      },
      "text/plain": [
       "Validation: 0it [00:00, ?it/s]"
      ]
     },
     "metadata": {},
     "output_type": "display_data"
    },
    {
     "data": {
      "application/vnd.jupyter.widget-view+json": {
       "model_id": "",
       "version_major": 2,
       "version_minor": 0
      },
      "text/plain": [
       "Validation: 0it [00:00, ?it/s]"
      ]
     },
     "metadata": {},
     "output_type": "display_data"
    },
    {
     "data": {
      "application/vnd.jupyter.widget-view+json": {
       "model_id": "",
       "version_major": 2,
       "version_minor": 0
      },
      "text/plain": [
       "Validation: 0it [00:00, ?it/s]"
      ]
     },
     "metadata": {},
     "output_type": "display_data"
    },
    {
     "data": {
      "application/vnd.jupyter.widget-view+json": {
       "model_id": "",
       "version_major": 2,
       "version_minor": 0
      },
      "text/plain": [
       "Validation: 0it [00:00, ?it/s]"
      ]
     },
     "metadata": {},
     "output_type": "display_data"
    },
    {
     "data": {
      "application/vnd.jupyter.widget-view+json": {
       "model_id": "",
       "version_major": 2,
       "version_minor": 0
      },
      "text/plain": [
       "Validation: 0it [00:00, ?it/s]"
      ]
     },
     "metadata": {},
     "output_type": "display_data"
    },
    {
     "data": {
      "application/vnd.jupyter.widget-view+json": {
       "model_id": "",
       "version_major": 2,
       "version_minor": 0
      },
      "text/plain": [
       "Validation: 0it [00:00, ?it/s]"
      ]
     },
     "metadata": {},
     "output_type": "display_data"
    },
    {
     "data": {
      "application/vnd.jupyter.widget-view+json": {
       "model_id": "",
       "version_major": 2,
       "version_minor": 0
      },
      "text/plain": [
       "Validation: 0it [00:00, ?it/s]"
      ]
     },
     "metadata": {},
     "output_type": "display_data"
    },
    {
     "data": {
      "application/vnd.jupyter.widget-view+json": {
       "model_id": "",
       "version_major": 2,
       "version_minor": 0
      },
      "text/plain": [
       "Validation: 0it [00:00, ?it/s]"
      ]
     },
     "metadata": {},
     "output_type": "display_data"
    },
    {
     "data": {
      "application/vnd.jupyter.widget-view+json": {
       "model_id": "",
       "version_major": 2,
       "version_minor": 0
      },
      "text/plain": [
       "Validation: 0it [00:00, ?it/s]"
      ]
     },
     "metadata": {},
     "output_type": "display_data"
    },
    {
     "data": {
      "application/vnd.jupyter.widget-view+json": {
       "model_id": "",
       "version_major": 2,
       "version_minor": 0
      },
      "text/plain": [
       "Validation: 0it [00:00, ?it/s]"
      ]
     },
     "metadata": {},
     "output_type": "display_data"
    },
    {
     "data": {
      "application/vnd.jupyter.widget-view+json": {
       "model_id": "",
       "version_major": 2,
       "version_minor": 0
      },
      "text/plain": [
       "Validation: 0it [00:00, ?it/s]"
      ]
     },
     "metadata": {},
     "output_type": "display_data"
    },
    {
     "data": {
      "application/vnd.jupyter.widget-view+json": {
       "model_id": "",
       "version_major": 2,
       "version_minor": 0
      },
      "text/plain": [
       "Validation: 0it [00:00, ?it/s]"
      ]
     },
     "metadata": {},
     "output_type": "display_data"
    },
    {
     "data": {
      "application/vnd.jupyter.widget-view+json": {
       "model_id": "",
       "version_major": 2,
       "version_minor": 0
      },
      "text/plain": [
       "Validation: 0it [00:00, ?it/s]"
      ]
     },
     "metadata": {},
     "output_type": "display_data"
    },
    {
     "data": {
      "application/vnd.jupyter.widget-view+json": {
       "model_id": "",
       "version_major": 2,
       "version_minor": 0
      },
      "text/plain": [
       "Validation: 0it [00:00, ?it/s]"
      ]
     },
     "metadata": {},
     "output_type": "display_data"
    },
    {
     "data": {
      "application/vnd.jupyter.widget-view+json": {
       "model_id": "",
       "version_major": 2,
       "version_minor": 0
      },
      "text/plain": [
       "Validation: 0it [00:00, ?it/s]"
      ]
     },
     "metadata": {},
     "output_type": "display_data"
    },
    {
     "data": {
      "application/vnd.jupyter.widget-view+json": {
       "model_id": "",
       "version_major": 2,
       "version_minor": 0
      },
      "text/plain": [
       "Validation: 0it [00:00, ?it/s]"
      ]
     },
     "metadata": {},
     "output_type": "display_data"
    },
    {
     "data": {
      "application/vnd.jupyter.widget-view+json": {
       "model_id": "",
       "version_major": 2,
       "version_minor": 0
      },
      "text/plain": [
       "Validation: 0it [00:00, ?it/s]"
      ]
     },
     "metadata": {},
     "output_type": "display_data"
    },
    {
     "data": {
      "application/vnd.jupyter.widget-view+json": {
       "model_id": "",
       "version_major": 2,
       "version_minor": 0
      },
      "text/plain": [
       "Validation: 0it [00:00, ?it/s]"
      ]
     },
     "metadata": {},
     "output_type": "display_data"
    },
    {
     "data": {
      "application/vnd.jupyter.widget-view+json": {
       "model_id": "",
       "version_major": 2,
       "version_minor": 0
      },
      "text/plain": [
       "Validation: 0it [00:00, ?it/s]"
      ]
     },
     "metadata": {},
     "output_type": "display_data"
    },
    {
     "data": {
      "application/vnd.jupyter.widget-view+json": {
       "model_id": "",
       "version_major": 2,
       "version_minor": 0
      },
      "text/plain": [
       "Validation: 0it [00:00, ?it/s]"
      ]
     },
     "metadata": {},
     "output_type": "display_data"
    },
    {
     "data": {
      "application/vnd.jupyter.widget-view+json": {
       "model_id": "",
       "version_major": 2,
       "version_minor": 0
      },
      "text/plain": [
       "Validation: 0it [00:00, ?it/s]"
      ]
     },
     "metadata": {},
     "output_type": "display_data"
    },
    {
     "data": {
      "application/vnd.jupyter.widget-view+json": {
       "model_id": "",
       "version_major": 2,
       "version_minor": 0
      },
      "text/plain": [
       "Validation: 0it [00:00, ?it/s]"
      ]
     },
     "metadata": {},
     "output_type": "display_data"
    },
    {
     "data": {
      "application/vnd.jupyter.widget-view+json": {
       "model_id": "",
       "version_major": 2,
       "version_minor": 0
      },
      "text/plain": [
       "Validation: 0it [00:00, ?it/s]"
      ]
     },
     "metadata": {},
     "output_type": "display_data"
    },
    {
     "data": {
      "application/vnd.jupyter.widget-view+json": {
       "model_id": "",
       "version_major": 2,
       "version_minor": 0
      },
      "text/plain": [
       "Validation: 0it [00:00, ?it/s]"
      ]
     },
     "metadata": {},
     "output_type": "display_data"
    },
    {
     "data": {
      "application/vnd.jupyter.widget-view+json": {
       "model_id": "",
       "version_major": 2,
       "version_minor": 0
      },
      "text/plain": [
       "Validation: 0it [00:00, ?it/s]"
      ]
     },
     "metadata": {},
     "output_type": "display_data"
    },
    {
     "data": {
      "application/vnd.jupyter.widget-view+json": {
       "model_id": "",
       "version_major": 2,
       "version_minor": 0
      },
      "text/plain": [
       "Validation: 0it [00:00, ?it/s]"
      ]
     },
     "metadata": {},
     "output_type": "display_data"
    },
    {
     "data": {
      "application/vnd.jupyter.widget-view+json": {
       "model_id": "",
       "version_major": 2,
       "version_minor": 0
      },
      "text/plain": [
       "Validation: 0it [00:00, ?it/s]"
      ]
     },
     "metadata": {},
     "output_type": "display_data"
    }
   ],
   "source": [
    "import matplotlib.pyplot as plt\n",
    "import tensorboard\n",
    "from torch import Tensor, optim, stack, nn\n",
    "from torch.nn import functional as F\n",
    "from torch.utils.data import DataLoader\n",
    "import pytorch_lightning as pl\n",
    "from pytorch_lightning.callbacks import ModelSummary\n",
    "from typing import Optional\n",
    "\n",
    "\n",
    "class DataModule(pl.LightningDataModule):\n",
    "\n",
    "    name = \"A.B\"\n",
    "\n",
    "    def __init__(\n",
    "        self,\n",
    "        val_split: int = 200,\n",
    "        num_workers: int = 0,\n",
    "        normalize: bool = False,\n",
    "        seed: int = 42,\n",
    "        batch_size: int = 10,\n",
    "        *args, **kwargs,\n",
    "    ):\n",
    "\n",
    "        super().__init__(*args, **kwargs)\n",
    "\n",
    "        self.val_split = val_split\n",
    "        self.num_workers = num_workers\n",
    "        self.normalize = normalize\n",
    "        self.seed = seed\n",
    "        self.batch_size = batch_size\n",
    "        self.dataset_train, self.dataset_val = [], []\n",
    "\n",
    "    def setup(self, stage: Optional[str] = None):\n",
    "        #self.dataset = pd.read_csv(data, skiprows=1)[['x','y','z']]\n",
    "        #self.dataset = Tensor(self.dataset.values)\n",
    "        #self.dataset_train, self.dataset_val = random_split(self.dataset, [self.dataset.shape[0] - self.val_split, self.val_split])\n",
    "        self.dataset_train = Tensor(X_train)\n",
    "        self.dataset_val = Tensor(X_test)\n",
    "\n",
    "    def train_dataloader(self):\n",
    "        loader = DataLoader(\n",
    "            self.dataset_train,\n",
    "            batch_size=self.batch_size,\n",
    "            shuffle=True,\n",
    "            num_workers=self.num_workers,\n",
    "            drop_last=True,\n",
    "            pin_memory=True,\n",
    "        )\n",
    "        return loader\n",
    "\n",
    "    def val_dataloader(self):\n",
    "        loader = DataLoader(\n",
    "            self.dataset_val,\n",
    "            batch_size=self.batch_size,\n",
    "            shuffle=False,\n",
    "            num_workers=self.num_workers,\n",
    "            drop_last=True,\n",
    "            pin_memory=True,\n",
    "        )\n",
    "        return loader\n",
    "\n",
    "    @property\n",
    "    def default_transforms(self):\n",
    "        return None\n",
    "\n",
    "\n",
    "class LitAutoEncoder(pl.LightningModule):\n",
    "\n",
    "    def __init__(self,nc):\n",
    "        super().__init__()\n",
    "        cn = round(round(nc ** .5))\n",
    "        self.encoder = nn.Sequential(\n",
    "            nn.Linear(nc, cn),\n",
    "            nn.ELU(),\n",
    "            nn.Linear(cn, 2))\n",
    "\n",
    "        self.decoder = nn.Sequential(\n",
    "            nn.Linear(2, cn),\n",
    "            nn.ELU(),\n",
    "            nn.Linear(cn, nc),\n",
    "            nn.Sigmoid())\n",
    "\n",
    "    def forward(self, x):\n",
    "        embedding = self.encoder(x)\n",
    "        return embedding\n",
    "\n",
    "    def configure_optimizers(self):\n",
    "        return optim.Adam(self.parameters(), lr=1e-3)\n",
    "\n",
    "    def training_step(self, train_batch, batch_idx):\n",
    "        x = train_batch\n",
    "        z = self.encoder(x)\n",
    "        x_hat = self.decoder(z)\n",
    "        loss = F.mse_loss(x_hat, x)\n",
    "        self.log('train_loss', loss)\n",
    "\n",
    "        return loss\n",
    "\n",
    "    def validation_step(self, val_batch, batch_idx):\n",
    "        x = val_batch\n",
    "        z = self.encoder(x)\n",
    "        x_hat = self.decoder(z)\n",
    "        loss = F.mse_loss(x_hat, x)\n",
    "        self.log('val_loss', loss)\n",
    "\n",
    "    def training_epoch_end(self, outputs):\n",
    "        avg_loss = stack([x['loss'] for x in outputs]).mean()\n",
    "        self.log('avg_train', avg_loss)\n",
    "        \n",
    "\n",
    "pl.seed_everything(42, workers=True)\n",
    "aet = LitAutoEncoder(X.shape[1])\n",
    "data_loader = DataModule(num_workers=0)\n",
    "trainer = pl.Trainer(deterministic=True, max_epochs=30, callbacks=[ModelSummary(max_depth=2)])\n",
    "trainer.fit(aet, data_loader)"
   ]
  },
  {
   "cell_type": "code",
   "execution_count": 24,
   "metadata": {
    "pycharm": {
     "name": "#%%\n"
    }
   },
   "outputs": [
    {
     "name": "stdout",
     "output_type": "stream",
     "text": [
      "The tensorboard extension is already loaded. To reload it, use:\n",
      "  %reload_ext tensorboard\n"
     ]
    },
    {
     "data": {
      "text/plain": [
       "'2.9.0'"
      ]
     },
     "execution_count": 24,
     "metadata": {},
     "output_type": "execute_result"
    }
   ],
   "source": [
    "%load_ext tensorboard\n",
    "tensorboard.__version__"
   ]
  },
  {
   "cell_type": "code",
   "execution_count": 25,
   "metadata": {
    "pycharm": {
     "name": "#%%\n"
    },
    "tags": []
   },
   "outputs": [
    {
     "data": {
      "text/plain": [
       "Reusing TensorBoard on port 6013 (pid 55253), started 0:01:58 ago. (Use '!kill 55253' to kill it.)"
      ]
     },
     "metadata": {},
     "output_type": "display_data"
    },
    {
     "data": {
      "text/html": [
       "\n",
       "      <iframe id=\"tensorboard-frame-bdd640fb06671ad1\" width=\"100%\" height=\"800\" frameborder=\"0\">\n",
       "      </iframe>\n",
       "      <script>\n",
       "        (function() {\n",
       "          const frame = document.getElementById(\"tensorboard-frame-bdd640fb06671ad1\");\n",
       "          const url = new URL(\"/\", window.location);\n",
       "          const port = 6013;\n",
       "          if (port) {\n",
       "            url.port = port;\n",
       "          }\n",
       "          frame.src = url;\n",
       "        })();\n",
       "      </script>\n",
       "    "
      ],
      "text/plain": [
       "<IPython.core.display.HTML object>"
      ]
     },
     "metadata": {},
     "output_type": "display_data"
    }
   ],
   "source": [
    "%tensorboard --logdir $log"
   ]
  },
  {
   "cell_type": "markdown",
   "metadata": {
    "pycharm": {
     "name": "#%% md\n"
    }
   },
   "source": [
    "## 3 - AUTOENCODER with Keras"
   ]
  },
  {
   "cell_type": "code",
   "execution_count": 26,
   "metadata": {
    "pycharm": {
     "name": "#%%\n"
    }
   },
   "outputs": [
    {
     "name": "stdout",
     "output_type": "stream",
     "text": [
      "Epoch 1/30\n",
      "64/64 [==============================] - 2s 6ms/step - loss: 0.3489 - val_loss: 0.3214\n",
      "Epoch 2/30\n",
      "64/64 [==============================] - 0s 5ms/step - loss: 0.3201 - val_loss: 0.2931\n",
      "Epoch 3/30\n",
      "64/64 [==============================] - 0s 4ms/step - loss: 0.2908 - val_loss: 0.2661\n",
      "Epoch 4/30\n",
      "64/64 [==============================] - 0s 4ms/step - loss: 0.2637 - val_loss: 0.2420\n",
      "Epoch 5/30\n",
      "64/64 [==============================] - 0s 4ms/step - loss: 0.2400 - val_loss: 0.2213\n",
      "Epoch 6/30\n",
      "64/64 [==============================] - 0s 4ms/step - loss: 0.2197 - val_loss: 0.2034\n",
      "Epoch 7/30\n",
      "64/64 [==============================] - 0s 4ms/step - loss: 0.2022 - val_loss: 0.1878\n",
      "Epoch 8/30\n",
      "64/64 [==============================] - 0s 4ms/step - loss: 0.1869 - val_loss: 0.1739\n",
      "Epoch 9/30\n",
      "64/64 [==============================] - 0s 4ms/step - loss: 0.1732 - val_loss: 0.1615\n",
      "Epoch 10/30\n",
      "64/64 [==============================] - 0s 4ms/step - loss: 0.1611 - val_loss: 0.1509\n",
      "Epoch 11/30\n",
      "64/64 [==============================] - 0s 4ms/step - loss: 0.1508 - val_loss: 0.1420\n",
      "Epoch 12/30\n",
      "64/64 [==============================] - 0s 4ms/step - loss: 0.1424 - val_loss: 0.1348\n",
      "Epoch 13/30\n",
      "64/64 [==============================] - 0s 4ms/step - loss: 0.1356 - val_loss: 0.1291\n",
      "Epoch 14/30\n",
      "64/64 [==============================] - 0s 4ms/step - loss: 0.1301 - val_loss: 0.1244\n",
      "Epoch 15/30\n",
      "64/64 [==============================] - 0s 4ms/step - loss: 0.1256 - val_loss: 0.1205\n",
      "Epoch 16/30\n",
      "64/64 [==============================] - 0s 4ms/step - loss: 0.1219 - val_loss: 0.1173\n",
      "Epoch 17/30\n",
      "64/64 [==============================] - 0s 3ms/step - loss: 0.1187 - val_loss: 0.1144\n",
      "Epoch 18/30\n",
      "64/64 [==============================] - 0s 4ms/step - loss: 0.1159 - val_loss: 0.1118\n",
      "Epoch 19/30\n",
      "64/64 [==============================] - 0s 4ms/step - loss: 0.1134 - val_loss: 0.1092\n",
      "Epoch 20/30\n",
      "64/64 [==============================] - 0s 4ms/step - loss: 0.1109 - val_loss: 0.1066\n",
      "Epoch 21/30\n",
      "64/64 [==============================] - 0s 4ms/step - loss: 0.1083 - val_loss: 0.1034\n",
      "Epoch 22/30\n",
      "64/64 [==============================] - 0s 3ms/step - loss: 0.1055 - val_loss: 0.1008\n",
      "Epoch 23/30\n",
      "64/64 [==============================] - 0s 3ms/step - loss: 0.1034 - val_loss: 0.0990\n",
      "Epoch 24/30\n",
      "64/64 [==============================] - 0s 3ms/step - loss: 0.1018 - val_loss: 0.0976\n",
      "Epoch 25/30\n",
      "64/64 [==============================] - 0s 4ms/step - loss: 0.1005 - val_loss: 0.0965\n",
      "Epoch 26/30\n",
      "64/64 [==============================] - 0s 4ms/step - loss: 0.0993 - val_loss: 0.0954\n",
      "Epoch 27/30\n",
      "64/64 [==============================] - 0s 4ms/step - loss: 0.0982 - val_loss: 0.0945\n",
      "Epoch 28/30\n",
      "64/64 [==============================] - 0s 4ms/step - loss: 0.0972 - val_loss: 0.0937\n",
      "Epoch 29/30\n",
      "64/64 [==============================] - 0s 4ms/step - loss: 0.0964 - val_loss: 0.0930\n",
      "Epoch 30/30\n",
      "64/64 [==============================] - 0s 5ms/step - loss: 0.0956 - val_loss: 0.0923\n",
      "Model: \"sequential_1\"\n",
      "_________________________________________________________________\n",
      " Layer (type)                Output Shape              Param #   \n",
      "=================================================================\n",
      " dense_4 (Dense)             (None, 2)                 8         \n",
      "                                                                 \n",
      " dense_5 (Dense)             (None, 2)                 6         \n",
      "                                                                 \n",
      " dense_6 (Dense)             (None, 2)                 6         \n",
      "                                                                 \n",
      " dense_7 (Dense)             (None, 3)                 9         \n",
      "                                                                 \n",
      "=================================================================\n",
      "Total params: 29\n",
      "Trainable params: 29\n",
      "Non-trainable params: 0\n",
      "_________________________________________________________________\n"
     ]
    }
   ],
   "source": [
    "from keras import Sequential\n",
    "from keras.layers import Dense\n",
    "from keras.callbacks import EarlyStopping, TensorBoard\n",
    "\n",
    "logdir = path.join(log, datetime.now().strftime(\"%Y%m%d-%H%M%S\"))\n",
    "\n",
    "tensorboard_callback = TensorBoard(log_dir=logdir, histogram_freq=1)\n",
    "\n",
    "aek = Sequential()\n",
    "es = EarlyStopping('val_loss', min_delta=1e-10, patience=100,\n",
    "                       verbose=1, restore_best_weights=True)\n",
    "ndim = X.shape[1]\n",
    "ndim_inter = round(round(ndim**.5))\n",
    "ndim_middle = 2\n",
    "\n",
    "aek.add(Dense(ndim_inter, input_dim=ndim, activation='elu'))\n",
    "aek.add(Dense(ndim_middle,activation='elu'))\n",
    "aek.add(Dense(ndim_inter,activation='elu'))\n",
    "aek.add(Dense(ndim, activation='sigmoid'))\n",
    "aek.compile(optimizer='nadam', loss='mse')\n",
    "history = aek.fit(X_train, X_train, batch_size=10,\n",
    "              epochs=30, verbose=1, callbacks=[es, tensorboard_callback], validation_split=0.2)\n",
    "\n",
    "aek.summary()"
   ]
  },
  {
   "cell_type": "code",
   "execution_count": 27,
   "metadata": {
    "pycharm": {
     "name": "#%%\n"
    },
    "tags": []
   },
   "outputs": [
    {
     "data": {
      "text/plain": [
       "Reusing TensorBoard on port 6013 (pid 55253), started 0:02:30 ago. (Use '!kill 55253' to kill it.)"
      ]
     },
     "metadata": {},
     "output_type": "display_data"
    },
    {
     "data": {
      "text/html": [
       "\n",
       "      <iframe id=\"tensorboard-frame-3eb13b9046685257\" width=\"100%\" height=\"800\" frameborder=\"0\">\n",
       "      </iframe>\n",
       "      <script>\n",
       "        (function() {\n",
       "          const frame = document.getElementById(\"tensorboard-frame-3eb13b9046685257\");\n",
       "          const url = new URL(\"/\", window.location);\n",
       "          const port = 6013;\n",
       "          if (port) {\n",
       "            url.port = port;\n",
       "          }\n",
       "          frame.src = url;\n",
       "        })();\n",
       "      </script>\n",
       "    "
      ],
      "text/plain": [
       "<IPython.core.display.HTML object>"
      ]
     },
     "metadata": {},
     "output_type": "display_data"
    }
   ],
   "source": [
    "%tensorboard --logdir $log"
   ]
  },
  {
   "cell_type": "markdown",
   "metadata": {
    "pycharm": {
     "name": "#%% md\n"
    }
   },
   "source": [
    "## 4 - PREDICTION with PRE-TRAINED AUTOENCODERS "
   ]
  },
  {
   "cell_type": "code",
   "execution_count": 28,
   "metadata": {
    "pycharm": {
     "name": "#%%\n"
    }
   },
   "outputs": [],
   "source": [
    "#Pytorch Lightning\n",
    "X_test_reduit_torch = aet.forward(Tensor(X_test)).detach().numpy()"
   ]
  },
  {
   "cell_type": "code",
   "execution_count": 29,
   "metadata": {
    "pycharm": {
     "name": "#%%\n"
    }
   },
   "outputs": [
    {
     "name": "stdout",
     "output_type": "stream",
     "text": [
      "25/25 [==============================] - 0s 936us/step\n",
      "7/7 [==============================] - 0s 1ms/step\n"
     ]
    }
   ],
   "source": [
    "#Tensorflow\n",
    "aeke = Sequential(aek.layers[:-2])\n",
    "X_train_reduit_keras, X_test_reduit_keras = aeke.predict(X_train), aeke.predict(X_test)"
   ]
  },
  {
   "cell_type": "markdown",
   "metadata": {
    "pycharm": {
     "name": "#%% md\n"
    }
   },
   "source": [
    "## 5 - Visualization"
   ]
  },
  {
   "cell_type": "code",
   "execution_count": 31,
   "metadata": {
    "pycharm": {
     "name": "#%%\n"
    },
    "tags": []
   },
   "outputs": [
    {
     "data": {
      "text/plain": [
       "<AxesSubplot:xlabel='$pc_1$', ylabel='$pc_2$'>"
      ]
     },
     "execution_count": 31,
     "metadata": {},
     "output_type": "execute_result"
    },
    {
     "data": {
      "image/png": "[encoded data removed]",
      "text/plain": [
       "<Figure size 1152x432 with 2 Axes>"
      ]
     },
     "metadata": {
      "needs_background": "light"
     },
     "output_type": "display_data"
    }
   ],
   "source": [
    "fig, (ax1, ax2) = plt.subplots(1, 2, figsize=(16, 6))\n",
    "ko = np.where(y_test==1, 1,0).sum()\n",
    "ok = np.where(y_test==0, 1,0).sum()\n",
    "y_tst =  [['OK','KO'][int(v)] for v in y_test]\n",
    "\n",
    "txt=str(round(100*ko/(ko+ok),1))+'% ('+str(ko)+'/'+str(ok)+')'\n",
    "\n",
    "fig.suptitle(\"CLASSIFICATION OK vs KO = \"+txt)\n",
    "plt.xlabel(\"$pc_1$\")\n",
    "plt.ylabel(\"$pc_2$\")\n",
    "\n",
    "plot(x=X_test_reduit_torch[:,0], y=X_test_reduit_torch[:,1], hue=y_tst, ec=None, ax=ax1)\n",
    "plot(x=X_test_reduit_keras[:,0], y=X_test_reduit_keras[:,1], hue=y_tst, ec=None, ax=ax2)\n"
   ]
  },
  {
   "cell_type": "code",
   "execution_count": null,
   "metadata": {
    "pycharm": {
     "name": "#%%\n"
    }
   },
   "outputs": [],
   "source": []
  },
  {
   "cell_type": "code",
   "execution_count": null,
   "metadata": {
    "pycharm": {
     "name": "#%%\n"
    }
   },
   "outputs": [],
   "source": []
  }
 ],
 "metadata": {
  "kernelspec": {
   "display_name": "Python 3 (ipykernel)",
   "language": "python",
   "name": "python3"
  },
  "language_info": {
   "codemirror_mode": {
    "name": "ipython",
    "version": 3
   },
   "file_extension": ".py",
   "mimetype": "text/x-python",
   "name": "python",
   "nbconvert_exporter": "python",
   "pygments_lexer": "ipython3",
   "version": "3.10.4"
  },
  "toc-showcode": false
 },
 "nbformat": 4,
 "nbformat_minor": 4
}
