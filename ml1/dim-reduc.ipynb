{
 "cells": [
  {
   "cell_type": "markdown",
   "metadata": {
    "pycharm": {
     "name": "#%% md\n"
    }
   },
   "source": [
    " # __[Dimension Reduction](https://medium.com/accel-ai/machine-learning-algorithms-cheat-sheet-990104aaaabc)__   -  Jean-Pierre Morard  -  V1.0.1 \n",
    "\n",
    "1- PCA ScikitLearn __[PCA](https://www.cs.cmu.edu/~elaw/papers/pca.pdf)__ <br>\n",
    "2- Autoencoder PYTORCH Ligthning<br>\n",
    "3- Autoencoder KERAS Tensorflow <br>\n",
    "4- Prédictions <br>\n",
    "5- Visualisation Seaborn <br>\n",
    "7- __[SVD](https://www.youtube.com/watch?v=gXbThCXjZFM)__ __[Reza Bagheri Lab](https://github.com/reza-bagheri/SVD_article/blob/master/SVD-note-book.ipynb)__ <br>\n",
    "\n",
    "[<img align=\"left\" src=\"doc/Dim-Reduc-Alternatives.png\" title=\"towardsdatascience.com\" width=\"250\"/>](https://towardsdatascience.com/dimensionality-reduction-cheatsheet-15060fee3aa)\n",
    "[<img align=\"left\" src=\"doc/Fraction-of-Papers-Using-PyTorch-vs.-TensorFlow.png\" title=\"www.assemblyai.com\" width=\"350\"/>](https://www.assemblyai.com/blog/pytorch-vs-tensorflow-in-2022/)<br>\n",
    "[<img align=\"left\" src=\"doc/colab-badge.png\" title=\"\" width=\"80\"/>](https://colab.research.google.com/github/morard/abyx/blob/main/ml1/dim-reduc.ipynb)<br>\n",
    "[<img align=\"left\" src=\"doc/badge_logo.png\" title=\"\" width=\"80\"/>](https://mybinder.org/v2/gh/morard/abyx/HEAD?labpath=ml1%2Fdim-reduc.ipynb)<br>\n",
    "[<img align=\"left\" src=\"doc/winpython.png\" title=\"\" width=\"80\"/>](http://l.sourceforge.net/f/a/39FiVm9LfkUWRzvQpamCdw~~/AABcDgA~/RgRkWPe2P0R9aHR0cHM6Ly9zb3VyY2Vmb3JnZS5uZXQvcHJvamVjdHMvd2lucHl0aG9uL2ZpbGVzL2xhdGVzdC9kb3dubG9hZD91dG1fY2FtcGFpZ249dXBkYXRlciZ1dG1fbWVkaXVtPWVtYWlsJnV0bV9zb3VyY2U9c3Vic2NyaWJlcnNXA3NwY0IKYnE2xHdiT7g-xlIcamVhbi5waWVycmUubW9yYXJkQGdtYWlsLmNvbVgEAAAAAQ~~)"
   ]
  },
  {
   "cell_type": "markdown",
   "metadata": {
    "pycharm": {
     "name": "#%% md\n"
    }
   },
   "source": [
    "## 1 - PCA with Sci-Kit-Learn"
   ]
  },
  {
   "cell_type": "markdown",
   "metadata": {
    "pycharm": {
     "name": "#%% md\n"
    }
   },
   "source": [
    "![alt text](doc/pca.png \"PCA\") \n",
    "<br> __[Source: Shervine Amidi - Stanford- Machine Learning cs-229](https://stanford.edu/~shervine/teaching/cs-229/)__ <br>"
   ]
  },
  {
   "cell_type": "code",
   "execution_count": null,
   "metadata": {
    "pycharm": {
     "is_executing": true,
     "name": "#%%\n"
    }
   },
   "outputs": [],
   "source": [
    "# with binder\n",
    "!pip install --upgrade -q  pip matplotlib pandas seaborn scikit-learn torch keras tensorboard"
   ]
  },
  {
   "cell_type": "code",
   "execution_count": 2,
   "metadata": {
    "pycharm": {
     "name": "#%%\n"
    }
   },
   "outputs": [
    {
     "data": {
      "text/html": [
       "<div>\n",
       "<style scoped>\n",
       "    .dataframe tbody tr th:only-of-type {\n",
       "        vertical-align: middle;\n",
       "    }\n",
       "\n",
       "    .dataframe tbody tr th {\n",
       "        vertical-align: top;\n",
       "    }\n",
       "\n",
       "    .dataframe thead tr th {\n",
       "        text-align: left;\n",
       "    }\n",
       "</style>\n",
       "<table border=\"1\" class=\"dataframe\">\n",
       "  <thead>\n",
       "    <tr>\n",
       "      <th></th>\n",
       "      <th colspan=\"3\" halign=\"left\">A</th>\n",
       "      <th colspan=\"3\" halign=\"left\">B</th>\n",
       "      <th>C1</th>\n",
       "      <th>C2</th>\n",
       "      <th>D</th>\n",
       "      <th colspan=\"2\" halign=\"left\">AC</th>\n",
       "      <th colspan=\"2\" halign=\"left\">BC</th>\n",
       "    </tr>\n",
       "    <tr>\n",
       "      <th></th>\n",
       "      <th>x</th>\n",
       "      <th>y</th>\n",
       "      <th>z</th>\n",
       "      <th>x</th>\n",
       "      <th>y</th>\n",
       "      <th>z</th>\n",
       "      <th>AxB</th>\n",
       "      <th>A_B</th>\n",
       "      <th>id</th>\n",
       "      <th>r</th>\n",
       "      <th>s</th>\n",
       "      <th>r</th>\n",
       "      <th>s</th>\n",
       "    </tr>\n",
       "  </thead>\n",
       "  <tbody>\n",
       "    <tr>\n",
       "      <th>0</th>\n",
       "      <td>-0.498974</td>\n",
       "      <td>0.216534</td>\n",
       "      <td>-0.301567</td>\n",
       "      <td>-0.984205</td>\n",
       "      <td>-0.305076</td>\n",
       "      <td>0.051411</td>\n",
       "      <td>0.409530</td>\n",
       "      <td>0.0</td>\n",
       "      <td>1.0</td>\n",
       "      <td>-0.322967</td>\n",
       "      <td>-0.341418</td>\n",
       "      <td>0.327880</td>\n",
       "      <td>-0.649364</td>\n",
       "    </tr>\n",
       "    <tr>\n",
       "      <th>1</th>\n",
       "      <td>-0.372527</td>\n",
       "      <td>0.282734</td>\n",
       "      <td>0.035303</td>\n",
       "      <td>-0.999958</td>\n",
       "      <td>-0.318793</td>\n",
       "      <td>0.358918</td>\n",
       "      <td>0.295049</td>\n",
       "      <td>0.0</td>\n",
       "      <td>0.0</td>\n",
       "      <td>-0.088303</td>\n",
       "      <td>-0.072760</td>\n",
       "      <td>0.271133</td>\n",
       "      <td>-0.883726</td>\n",
       "    </tr>\n",
       "    <tr>\n",
       "      <th>2</th>\n",
       "      <td>0.266979</td>\n",
       "      <td>-0.497950</td>\n",
       "      <td>0.054173</td>\n",
       "      <td>0.039794</td>\n",
       "      <td>-0.509066</td>\n",
       "      <td>0.279608</td>\n",
       "      <td>0.279261</td>\n",
       "      <td>0.0</td>\n",
       "      <td>1.0</td>\n",
       "      <td>0.404497</td>\n",
       "      <td>-0.104554</td>\n",
       "      <td>0.497450</td>\n",
       "      <td>-0.165034</td>\n",
       "    </tr>\n",
       "  </tbody>\n",
       "</table>\n",
       "</div>"
      ],
      "text/plain": [
       "          A                             B                            C1   C2  \\\n",
       "          x         y         z         x         y         z       AxB  A_B   \n",
       "0 -0.498974  0.216534 -0.301567 -0.984205 -0.305076  0.051411  0.409530  0.0   \n",
       "1 -0.372527  0.282734  0.035303 -0.999958 -0.318793  0.358918  0.295049  0.0   \n",
       "2  0.266979 -0.497950  0.054173  0.039794 -0.509066  0.279608  0.279261  0.0   \n",
       "\n",
       "     D        AC                  BC            \n",
       "    id         r         s         r         s  \n",
       "0  1.0 -0.322967 -0.341418  0.327880 -0.649364  \n",
       "1  0.0 -0.088303 -0.072760  0.271133 -0.883726  \n",
       "2  1.0  0.404497 -0.104554  0.497450 -0.165034  "
      ]
     },
     "metadata": {},
     "output_type": "display_data"
    },
    {
     "data": {
      "text/plain": [
       "<AxesSubplot:>"
      ]
     },
     "execution_count": 2,
     "metadata": {},
     "output_type": "execute_result"
    },
    {
     "data": {
      "image/png": "[encoded data removed]",
      "text/plain": [
       "<Figure size 1152x432 with 3 Axes>"
      ]
     },
     "metadata": {
      "needs_background": "light"
     },
     "output_type": "display_data"
    }
   ],
   "source": [
    "import matplotlib.pyplot as plt\n",
    "import numpy as np\n",
    "import pandas as pd\n",
    "from seaborn import scatterplot as plot\n",
    "from seaborn import boxplot as boxplot\n",
    "from seaborn import heatmap as heatplot\n",
    "from sklearn.model_selection import train_test_split\n",
    "from datetime import datetime\n",
    "from sklearn.decomposition import PCA\n",
    "from os import path\n",
    "from shutil import rmtree\n",
    "\n",
    "def mkdf(k):\n",
    "    global pca\n",
    "    ar = np.zeros((k, 13), float)\n",
    "    ar[:, :3], ar[:, 3:6] = .5 * np.cos(2 * np.pi * np.random.rand(k, 3)), np.cos(2 * np.pi * np.random.rand(k, 3))\n",
    "    ar[:, 6] = np.einsum('ij,ij->i', ar[:, :3], ar[:, 3:6])\n",
    "    ar[:, 7] = (np.abs(np.trunc(ar[:, 6]))).astype(int)\n",
    "    ar[:, 8] = np.random.randint(0, 3, k)\n",
    "    ar[:, 9:11], ar[:, 11:13] = pca.fit_transform(ar[:, :3]), pca.fit_transform(ar[:, 3:6])\n",
    "    df1, df2  = pd.DataFrame(ar[:, :3], columns=['x', 'y', 'z']), pd.DataFrame(ar[:, 3:6], columns=['x', 'y', 'z'])\n",
    "    df3 = pd.DataFrame(ar[:, 6], columns=['AxB'])\n",
    "    df4 = pd.DataFrame(ar[:, 7], columns=['A_B'])\n",
    "    df5 = pd.DataFrame(ar[:, 8], columns=['id'])\n",
    "    df6, df7 = pd.DataFrame(ar[:, 9:11], columns=['r', 's']), pd.DataFrame(ar[:, 11:13], columns=['r', 's'])\n",
    "    return pd.concat([df1, df2, df3, df4, df5, df6, df7], axis=1, keys=['A', 'B', 'C1', 'C2', 'D', 'AC', 'BC'])\n",
    "\n",
    "nv, npc, n, p = 3, 2, 10, 100\n",
    "pca = PCA(n_components=npc)\n",
    "\n",
    "df = pd.concat([mkdf(p) for i in np.arange(n)])\n",
    "df.index = np.arange(n * p)\n",
    "display (df.head(3))\n",
    "\n",
    "log = 'lightning_logs'\n",
    "if path.isdir(log):\n",
    "    rmtree(log)\n",
    "\n",
    "data = 'ABC.csv'\n",
    "#df.columns = df.columns.to_flat_index()\n",
    "df.to_csv(data, index=False)\n",
    "\n",
    "fig, (ax1, ax2) = plt.subplots(1, 2, figsize=(16, 6))\n",
    "txt = ','.join(df.A.columns.values) + ' -> ' + ','.join(df.AC.columns.values)\n",
    "fig.suptitle(f'PCA for dimension reduction  {txt}')\n",
    "C2_txt =  [['OK','KO'][int(v)] for v in df.C2.A_B.values]\n",
    "plot(x=df.AC.r, y=df.AC.s, hue=C2_txt, palette=['red', 'blue'], ec=None, ax=ax1)\n",
    "\n",
    "df.C2.A_B.describe()\n",
    "\n",
    "for i in range(nv):\n",
    "    ax1.arrow(0, 0,  pca.components_[0, i], pca.components_[1, i], alpha = 0.5)\n",
    "    ax1.text(pca.components_[0,i]*1.1, pca.components_[1,i]*1.1, df.A.columns[i], color='g')\n",
    "\n",
    "loadings_df = pd.DataFrame(dict(zip(df.AC.columns, pca.components_)),index= df.A.columns.values)\n",
    "heatplot(loadings_df, annot=True, cmap='Spectral', ax=ax2)"
   ]
  },
  {
   "cell_type": "code",
   "execution_count": 3,
   "metadata": {
    "pycharm": {
     "name": "#%%\n"
    }
   },
   "outputs": [
    {
     "data": {
      "text/html": [
       "<div>\n",
       "<style scoped>\n",
       "    .dataframe tbody tr th:only-of-type {\n",
       "        vertical-align: middle;\n",
       "    }\n",
       "\n",
       "    .dataframe tbody tr th {\n",
       "        vertical-align: top;\n",
       "    }\n",
       "\n",
       "    .dataframe thead th {\n",
       "        text-align: right;\n",
       "    }\n",
       "</style>\n",
       "<table border=\"1\" class=\"dataframe\">\n",
       "  <thead>\n",
       "    <tr style=\"text-align: right;\">\n",
       "      <th></th>\n",
       "      <th>x</th>\n",
       "      <th>y</th>\n",
       "      <th>z</th>\n",
       "    </tr>\n",
       "  </thead>\n",
       "  <tbody>\n",
       "    <tr>\n",
       "      <th>count</th>\n",
       "      <td>1000.000000</td>\n",
       "      <td>1000.000000</td>\n",
       "      <td>1000.000000</td>\n",
       "    </tr>\n",
       "    <tr>\n",
       "      <th>mean</th>\n",
       "      <td>0.006520</td>\n",
       "      <td>-0.003837</td>\n",
       "      <td>0.009670</td>\n",
       "    </tr>\n",
       "    <tr>\n",
       "      <th>std</th>\n",
       "      <td>0.356345</td>\n",
       "      <td>0.350180</td>\n",
       "      <td>0.352107</td>\n",
       "    </tr>\n",
       "    <tr>\n",
       "      <th>min</th>\n",
       "      <td>-0.499999</td>\n",
       "      <td>-0.500000</td>\n",
       "      <td>-0.499996</td>\n",
       "    </tr>\n",
       "    <tr>\n",
       "      <th>25%</th>\n",
       "      <td>-0.356636</td>\n",
       "      <td>-0.356281</td>\n",
       "      <td>-0.336256</td>\n",
       "    </tr>\n",
       "    <tr>\n",
       "      <th>50%</th>\n",
       "      <td>0.009666</td>\n",
       "      <td>0.012882</td>\n",
       "      <td>0.020263</td>\n",
       "    </tr>\n",
       "    <tr>\n",
       "      <th>75%</th>\n",
       "      <td>0.360867</td>\n",
       "      <td>0.326156</td>\n",
       "      <td>0.355414</td>\n",
       "    </tr>\n",
       "    <tr>\n",
       "      <th>max</th>\n",
       "      <td>0.499999</td>\n",
       "      <td>0.499993</td>\n",
       "      <td>0.500000</td>\n",
       "    </tr>\n",
       "  </tbody>\n",
       "</table>\n",
       "</div>"
      ],
      "text/plain": [
       "                 x            y            z\n",
       "count  1000.000000  1000.000000  1000.000000\n",
       "mean      0.006520    -0.003837     0.009670\n",
       "std       0.356345     0.350180     0.352107\n",
       "min      -0.499999    -0.500000    -0.499996\n",
       "25%      -0.356636    -0.356281    -0.336256\n",
       "50%       0.009666     0.012882     0.020263\n",
       "75%       0.360867     0.326156     0.355414\n",
       "max       0.499999     0.499993     0.500000"
      ]
     },
     "execution_count": 3,
     "metadata": {},
     "output_type": "execute_result"
    }
   ],
   "source": [
    "y = df.C2.A_B\n",
    "X = df.A\n",
    "#X = pd.merge(df.A, df.C1.AxB, right_index = True, left_index = True)\n",
    "\n",
    "X_train, X_test, y_train, y_test = train_test_split(X.values, y, test_size=.2, random_state=42)\n",
    "\n",
    "# from sklearn.preprocessing import StandardScaler\n",
    "# scaler = StandardScaler()\n",
    "# scaler.fit(X)\n",
    "# X=scaler.transform(X) \n",
    "\n",
    "# Check if data are normalized\n",
    "\n",
    "X.describe()"
   ]
  },
  {
   "cell_type": "markdown",
   "metadata": {
    "pycharm": {
     "name": "#%% md\n"
    }
   },
   "source": [
    "![alt text](doc/nn.png \"Title\")\n",
    "<br> __[Source: Shervine Amidi - Stanford- Machine Learning cs-229](https://stanford.edu/~shervine/teaching/cs-229/)__"
   ]
  },
  {
   "cell_type": "code",
   "execution_count": 11,
   "metadata": {
    "pycharm": {
     "name": "#%%\n"
    }
   },
   "outputs": [
    {
     "name": "stderr",
     "output_type": "stream",
     "text": [
      "Global seed set to 42\n",
      "Trainer already configured with model summary callbacks: [<class 'pytorch_lightning.callbacks.model_summary.ModelSummary'>]. Skipping setting a default `ModelSummary` callback.\n",
      "GPU available: False, used: False\n",
      "TPU available: False, using: 0 TPU cores\n",
      "IPU available: False, using: 0 IPUs\n",
      "HPU available: False, using: 0 HPUs\n",
      "\n",
      "  | Name      | Type       | Params\n",
      "-----------------------------------------\n",
      "0 | encoder   | Sequential | 14    \n",
      "1 | encoder.0 | Linear     | 8     \n",
      "2 | encoder.1 | ELU        | 0     \n",
      "3 | encoder.2 | Linear     | 6     \n",
      "4 | decoder   | Sequential | 15    \n",
      "5 | decoder.0 | Linear     | 6     \n",
      "6 | decoder.1 | ELU        | 0     \n",
      "7 | decoder.2 | Linear     | 9     \n",
      "8 | decoder.3 | Sigmoid    | 0     \n",
      "-----------------------------------------\n",
      "29        Trainable params\n",
      "0         Non-trainable params\n",
      "29        Total params\n",
      "0.000     Total estimated model params size (MB)\n"
     ]
    },
    {
     "data": {
      "application/vnd.jupyter.widget-view+json": {
       "model_id": "",
       "version_major": 2,
       "version_minor": 0
      },
      "text/plain": [
       "Sanity Checking: 0it [00:00, ?it/s]"
      ]
     },
     "metadata": {},
     "output_type": "display_data"
    },
    {
     "data": {
      "application/vnd.jupyter.widget-view+json": {
       "model_id": "03f10b8651794b919fefa8b0c04736ce",
       "version_major": 2,
       "version_minor": 0
      },
      "text/plain": [
       "Training: 0it [00:00, ?it/s]"
      ]
     },
     "metadata": {},
     "output_type": "display_data"
    },
    {
     "data": {
      "application/vnd.jupyter.widget-view+json": {
       "model_id": "",
       "version_major": 2,
       "version_minor": 0
      },
      "text/plain": [
       "Validation: 0it [00:00, ?it/s]"
      ]
     },
     "metadata": {},
     "output_type": "display_data"
    },
    {
     "data": {
      "application/vnd.jupyter.widget-view+json": {
       "model_id": "",
       "version_major": 2,
       "version_minor": 0
      },
      "text/plain": [
       "Validation: 0it [00:00, ?it/s]"
      ]
     },
     "metadata": {},
     "output_type": "display_data"
    },
    {
     "data": {
      "application/vnd.jupyter.widget-view+json": {
       "model_id": "",
       "version_major": 2,
       "version_minor": 0
      },
      "text/plain": [
       "Validation: 0it [00:00, ?it/s]"
      ]
     },
     "metadata": {},
     "output_type": "display_data"
    },
    {
     "data": {
      "application/vnd.jupyter.widget-view+json": {
       "model_id": "",
       "version_major": 2,
       "version_minor": 0
      },
      "text/plain": [
       "Validation: 0it [00:00, ?it/s]"
      ]
     },
     "metadata": {},
     "output_type": "display_data"
    },
    {
     "data": {
      "application/vnd.jupyter.widget-view+json": {
       "model_id": "",
       "version_major": 2,
       "version_minor": 0
      },
      "text/plain": [
       "Validation: 0it [00:00, ?it/s]"
      ]
     },
     "metadata": {},
     "output_type": "display_data"
    },
    {
     "data": {
      "application/vnd.jupyter.widget-view+json": {
       "model_id": "",
       "version_major": 2,
       "version_minor": 0
      },
      "text/plain": [
       "Validation: 0it [00:00, ?it/s]"
      ]
     },
     "metadata": {},
     "output_type": "display_data"
    },
    {
     "data": {
      "application/vnd.jupyter.widget-view+json": {
       "model_id": "",
       "version_major": 2,
       "version_minor": 0
      },
      "text/plain": [
       "Validation: 0it [00:00, ?it/s]"
      ]
     },
     "metadata": {},
     "output_type": "display_data"
    },
    {
     "data": {
      "application/vnd.jupyter.widget-view+json": {
       "model_id": "",
       "version_major": 2,
       "version_minor": 0
      },
      "text/plain": [
       "Validation: 0it [00:00, ?it/s]"
      ]
     },
     "metadata": {},
     "output_type": "display_data"
    },
    {
     "data": {
      "application/vnd.jupyter.widget-view+json": {
       "model_id": "",
       "version_major": 2,
       "version_minor": 0
      },
      "text/plain": [
       "Validation: 0it [00:00, ?it/s]"
      ]
     },
     "metadata": {},
     "output_type": "display_data"
    },
    {
     "data": {
      "application/vnd.jupyter.widget-view+json": {
       "model_id": "",
       "version_major": 2,
       "version_minor": 0
      },
      "text/plain": [
       "Validation: 0it [00:00, ?it/s]"
      ]
     },
     "metadata": {},
     "output_type": "display_data"
    },
    {
     "data": {
      "application/vnd.jupyter.widget-view+json": {
       "model_id": "",
       "version_major": 2,
       "version_minor": 0
      },
      "text/plain": [
       "Validation: 0it [00:00, ?it/s]"
      ]
     },
     "metadata": {},
     "output_type": "display_data"
    },
    {
     "data": {
      "application/vnd.jupyter.widget-view+json": {
       "model_id": "",
       "version_major": 2,
       "version_minor": 0
      },
      "text/plain": [
       "Validation: 0it [00:00, ?it/s]"
      ]
     },
     "metadata": {},
     "output_type": "display_data"
    },
    {
     "data": {
      "application/vnd.jupyter.widget-view+json": {
       "model_id": "",
       "version_major": 2,
       "version_minor": 0
      },
      "text/plain": [
       "Validation: 0it [00:00, ?it/s]"
      ]
     },
     "metadata": {},
     "output_type": "display_data"
    },
    {
     "data": {
      "application/vnd.jupyter.widget-view+json": {
       "model_id": "",
       "version_major": 2,
       "version_minor": 0
      },
      "text/plain": [
       "Validation: 0it [00:00, ?it/s]"
      ]
     },
     "metadata": {},
     "output_type": "display_data"
    },
    {
     "data": {
      "application/vnd.jupyter.widget-view+json": {
       "model_id": "",
       "version_major": 2,
       "version_minor": 0
      },
      "text/plain": [
       "Validation: 0it [00:00, ?it/s]"
      ]
     },
     "metadata": {},
     "output_type": "display_data"
    },
    {
     "data": {
      "application/vnd.jupyter.widget-view+json": {
       "model_id": "",
       "version_major": 2,
       "version_minor": 0
      },
      "text/plain": [
       "Validation: 0it [00:00, ?it/s]"
      ]
     },
     "metadata": {},
     "output_type": "display_data"
    },
    {
     "data": {
      "application/vnd.jupyter.widget-view+json": {
       "model_id": "",
       "version_major": 2,
       "version_minor": 0
      },
      "text/plain": [
       "Validation: 0it [00:00, ?it/s]"
      ]
     },
     "metadata": {},
     "output_type": "display_data"
    },
    {
     "data": {
      "application/vnd.jupyter.widget-view+json": {
       "model_id": "",
       "version_major": 2,
       "version_minor": 0
      },
      "text/plain": [
       "Validation: 0it [00:00, ?it/s]"
      ]
     },
     "metadata": {},
     "output_type": "display_data"
    },
    {
     "data": {
      "application/vnd.jupyter.widget-view+json": {
       "model_id": "",
       "version_major": 2,
       "version_minor": 0
      },
      "text/plain": [
       "Validation: 0it [00:00, ?it/s]"
      ]
     },
     "metadata": {},
     "output_type": "display_data"
    },
    {
     "data": {
      "application/vnd.jupyter.widget-view+json": {
       "model_id": "",
       "version_major": 2,
       "version_minor": 0
      },
      "text/plain": [
       "Validation: 0it [00:00, ?it/s]"
      ]
     },
     "metadata": {},
     "output_type": "display_data"
    },
    {
     "data": {
      "application/vnd.jupyter.widget-view+json": {
       "model_id": "",
       "version_major": 2,
       "version_minor": 0
      },
      "text/plain": [
       "Validation: 0it [00:00, ?it/s]"
      ]
     },
     "metadata": {},
     "output_type": "display_data"
    },
    {
     "data": {
      "application/vnd.jupyter.widget-view+json": {
       "model_id": "",
       "version_major": 2,
       "version_minor": 0
      },
      "text/plain": [
       "Validation: 0it [00:00, ?it/s]"
      ]
     },
     "metadata": {},
     "output_type": "display_data"
    },
    {
     "data": {
      "application/vnd.jupyter.widget-view+json": {
       "model_id": "",
       "version_major": 2,
       "version_minor": 0
      },
      "text/plain": [
       "Validation: 0it [00:00, ?it/s]"
      ]
     },
     "metadata": {},
     "output_type": "display_data"
    },
    {
     "data": {
      "application/vnd.jupyter.widget-view+json": {
       "model_id": "",
       "version_major": 2,
       "version_minor": 0
      },
      "text/plain": [
       "Validation: 0it [00:00, ?it/s]"
      ]
     },
     "metadata": {},
     "output_type": "display_data"
    },
    {
     "data": {
      "application/vnd.jupyter.widget-view+json": {
       "model_id": "",
       "version_major": 2,
       "version_minor": 0
      },
      "text/plain": [
       "Validation: 0it [00:00, ?it/s]"
      ]
     },
     "metadata": {},
     "output_type": "display_data"
    },
    {
     "data": {
      "application/vnd.jupyter.widget-view+json": {
       "model_id": "",
       "version_major": 2,
       "version_minor": 0
      },
      "text/plain": [
       "Validation: 0it [00:00, ?it/s]"
      ]
     },
     "metadata": {},
     "output_type": "display_data"
    },
    {
     "data": {
      "application/vnd.jupyter.widget-view+json": {
       "model_id": "",
       "version_major": 2,
       "version_minor": 0
      },
      "text/plain": [
       "Validation: 0it [00:00, ?it/s]"
      ]
     },
     "metadata": {},
     "output_type": "display_data"
    },
    {
     "data": {
      "application/vnd.jupyter.widget-view+json": {
       "model_id": "",
       "version_major": 2,
       "version_minor": 0
      },
      "text/plain": [
       "Validation: 0it [00:00, ?it/s]"
      ]
     },
     "metadata": {},
     "output_type": "display_data"
    },
    {
     "data": {
      "application/vnd.jupyter.widget-view+json": {
       "model_id": "",
       "version_major": 2,
       "version_minor": 0
      },
      "text/plain": [
       "Validation: 0it [00:00, ?it/s]"
      ]
     },
     "metadata": {},
     "output_type": "display_data"
    },
    {
     "data": {
      "application/vnd.jupyter.widget-view+json": {
       "model_id": "",
       "version_major": 2,
       "version_minor": 0
      },
      "text/plain": [
       "Validation: 0it [00:00, ?it/s]"
      ]
     },
     "metadata": {},
     "output_type": "display_data"
    }
   ],
   "source": [
    "import matplotlib.pyplot as plt\n",
    "import tensorboard\n",
    "from torch import Tensor, optim, stack, nn, cat\n",
    "from torch.nn import functional as F\n",
    "from torch.utils.data import DataLoader\n",
    "import pytorch_lightning as pl\n",
    "from pytorch_lightning.callbacks import ModelSummary, TQDMProgressBar\n",
    "from typing import Optional\n",
    "\n",
    "class DataModule(pl.LightningDataModule):\n",
    "\n",
    "    name = \"A.B\"\n",
    "\n",
    "    def __init__(\n",
    "        self,\n",
    "        val_split: int = 200,\n",
    "        num_workers: int = 0,\n",
    "        normalize: bool = False,\n",
    "        seed: int = 42,\n",
    "        batch_size: int = 10,\n",
    "        *args, **kwargs,\n",
    "    ):\n",
    "\n",
    "        super().__init__(*args, **kwargs)\n",
    "\n",
    "        self.val_split = val_split\n",
    "        self.num_workers = num_workers\n",
    "        self.normalize = normalize\n",
    "        self.seed = seed\n",
    "        self.batch_size = batch_size\n",
    "        self.dataset_train, self.dataset_val = [], []\n",
    "\n",
    "    def setup(self, stage: Optional[str] = None):\n",
    "        #self.dataset = pd.read_csv(data, skiprows=1)[['x','y','z']]\n",
    "        #self.dataset = Tensor(self.dataset.values)\n",
    "        #self.dataset_train, self.dataset_val = random_split(self.dataset, [self.dataset.shape[0] - self.val_split, self.val_split])\n",
    "        self.dataset_train = Tensor(X_train)\n",
    "        self.dataset_val = Tensor(X_test)\n",
    "\n",
    "    def train_dataloader(self):\n",
    "        loader = DataLoader(\n",
    "            self.dataset_train,\n",
    "            batch_size=self.batch_size,\n",
    "            shuffle=True,\n",
    "            num_workers=self.num_workers,\n",
    "            drop_last=True,\n",
    "           # pin_memory=torch.cuda.is_available(), #speed up transfer data from cpu and gpu (Set to false when using CPU)\n",
    "        )\n",
    "        return loader\n",
    "\n",
    "    def val_dataloader(self):\n",
    "        loader = DataLoader(\n",
    "            self.dataset_val,\n",
    "            batch_size=self.batch_size,\n",
    "            shuffle=False,\n",
    "            num_workers=self.num_workers,\n",
    "            drop_last=True,\n",
    "            # pin_memory=torch.cuda.is_available(), #speed up transfer data from cpu and gpu (Set to false when using CPU)\n",
    "        )\n",
    "        return loader\n",
    "\n",
    "    def predict_dataloader(self):\n",
    "        loader = DataLoader(\n",
    "            self.dataset_val,\n",
    "            batch_size=self.batch_size,\n",
    "            shuffle=False,\n",
    "            num_workers=self.num_workers,\n",
    "            drop_last=True,\n",
    "            # pin_memory=torch.cuda.is_available(),  #speed up transfer data from cpu and gpu (Set to false when using CPU)\n",
    "        )\n",
    "        return loader\n",
    "\n",
    "    def test_dataloader(self):\n",
    "        return self.predict_dataloader()\n",
    "\n",
    "    @property\n",
    "    def default_transforms(self):\n",
    "        return None\n",
    "\n",
    "\n",
    "class LitAutoEncoder(pl.LightningModule):\n",
    "\n",
    "    def __init__(self,nc):\n",
    "        super().__init__()\n",
    "        cn = round(round(nc ** .5))\n",
    "        self.encoder = nn.Sequential(\n",
    "            nn.Linear(nc, cn),\n",
    "            nn.ELU(),\n",
    "            nn.Linear(cn, 2))\n",
    "\n",
    "        self.decoder = nn.Sequential(\n",
    "            nn.Linear(2, cn),\n",
    "            nn.ELU(),\n",
    "            nn.Linear(cn, nc),\n",
    "            nn.Sigmoid())\n",
    "\n",
    "    def forward(self, x):\n",
    "        embedding = self.encoder(x)\n",
    "        return embedding\n",
    "\n",
    "    def configure_optimizers(self):\n",
    "        return optim.Adam(self.parameters(), lr=1e-3)\n",
    "\n",
    "    def training_step(self, train_batch, batch_idx):\n",
    "        x = train_batch\n",
    "        z = self.encoder(x)\n",
    "        x_hat = self.decoder(z)\n",
    "        loss = F.mse_loss(x_hat, x)\n",
    "        self.log('train_loss', loss)\n",
    "\n",
    "        return loss\n",
    "\n",
    "    def validation_step(self, val_batch, batch_idx):\n",
    "        x = val_batch\n",
    "        z = self.encoder(x)\n",
    "        x_hat = self.decoder(z)\n",
    "        loss = F.mse_loss(x_hat, x)\n",
    "        self.log('val_loss', loss)\n",
    "\n",
    "    def predict_step(self, pred_batch, batch_idx):\n",
    "        x = pred_batch\n",
    "        pred = self(x)\n",
    "        return pred\n",
    "\n",
    "    def test_step(self, test_batch, batch_idx):\n",
    "        x, = test_batch\n",
    "        z = self.encoder(x)\n",
    "        x_hat = self.decoder(z)\n",
    "        loss = F.mse_loss(x_hat, x)\n",
    "        self.log('test_loss', loss)\n",
    "\n",
    "    def training_epoch_end(self, outputs):\n",
    "        avg_loss = stack([x['loss'] for x in outputs]).mean()\n",
    "        self.log('avg_train', avg_loss)\n",
    "        \n",
    "\n",
    "pl.seed_everything(42, workers=True)\n",
    "aet = LitAutoEncoder(X.shape[1])\n",
    "data_loader = DataModule(num_workers=0)\n",
    "# TQDMProgressBar(refresh_rate=20), limits progress bar refresh rate when running in Colab or Jupyter\n",
    "trainer = pl.Trainer(deterministic=True, max_epochs=30, callbacks=[ModelSummary(max_depth=2), TQDMProgressBar(refresh_rate=20)])\n",
    "trainer.fit(aet, data_loader)"
   ]
  },
  {
   "cell_type": "code",
   "execution_count": 12,
   "metadata": {
    "pycharm": {
     "name": "#%%\n"
    }
   },
   "outputs": [
    {
     "name": "stdout",
     "output_type": "stream",
     "text": [
      "The tensorboard extension is already loaded. To reload it, use:\n",
      "  %reload_ext tensorboard\n"
     ]
    },
    {
     "data": {
      "text/plain": [
       "'2.8.0'"
      ]
     },
     "execution_count": 12,
     "metadata": {},
     "output_type": "execute_result"
    }
   ],
   "source": [
    "%load_ext tensorboard\n",
    "tensorboard.__version__"
   ]
  },
  {
   "cell_type": "code",
   "execution_count": 13,
   "metadata": {
    "pycharm": {
     "name": "#%%\n"
    }
   },
   "outputs": [
    {
     "data": {
      "text/plain": [
       "Reusing TensorBoard on port 6009 (pid 4964), started 3:58:23 ago. (Use '!kill 4964' to kill it.)"
      ]
     },
     "metadata": {},
     "output_type": "display_data"
    },
    {
     "data": {
      "text/html": [
       "\n",
       "      <iframe id=\"tensorboard-frame-1c80317fa3b1799d\" width=\"100%\" height=\"800\" frameborder=\"0\">\n",
       "      </iframe>\n",
       "      <script>\n",
       "        (function() {\n",
       "          const frame = document.getElementById(\"tensorboard-frame-1c80317fa3b1799d\");\n",
       "          const url = new URL(\"/\", window.location);\n",
       "          const port = 6009;\n",
       "          if (port) {\n",
       "            url.port = port;\n",
       "          }\n",
       "          frame.src = url;\n",
       "        })();\n",
       "      </script>\n",
       "    "
      ],
      "text/plain": [
       "<IPython.core.display.HTML object>"
      ]
     },
     "metadata": {},
     "output_type": "display_data"
    }
   ],
   "source": [
    "%tensorboard --host localhost --port 6009  --logdir $log "
   ]
  },
  {
   "cell_type": "markdown",
   "metadata": {
    "pycharm": {
     "name": "#%% md\n"
    }
   },
   "source": [
    "## 3 - AUTOENCODER with Keras"
   ]
  },
  {
   "cell_type": "code",
   "execution_count": 14,
   "metadata": {
    "pycharm": {
     "name": "#%%\n"
    }
   },
   "outputs": [
    {
     "name": "stdout",
     "output_type": "stream",
     "text": [
      "Epoch 1/30\n",
      "64/64 [==============================] - 1s 3ms/step - loss: 0.3471 - val_loss: 0.3434\n",
      "Epoch 2/30\n",
      "64/64 [==============================] - 0s 2ms/step - loss: 0.3073 - val_loss: 0.3005\n",
      "Epoch 3/30\n",
      "64/64 [==============================] - 0s 2ms/step - loss: 0.2656 - val_loss: 0.2591\n",
      "Epoch 4/30\n",
      "64/64 [==============================] - 0s 2ms/step - loss: 0.2279 - val_loss: 0.2233\n",
      "Epoch 5/30\n",
      "64/64 [==============================] - 0s 2ms/step - loss: 0.1969 - val_loss: 0.1947\n",
      "Epoch 6/30\n",
      "64/64 [==============================] - 0s 2ms/step - loss: 0.1726 - val_loss: 0.1723\n",
      "Epoch 7/30\n",
      "64/64 [==============================] - 0s 2ms/step - loss: 0.1540 - val_loss: 0.1551\n",
      "Epoch 8/30\n",
      "64/64 [==============================] - 0s 2ms/step - loss: 0.1399 - val_loss: 0.1418\n",
      "Epoch 9/30\n",
      "64/64 [==============================] - 0s 2ms/step - loss: 0.1293 - val_loss: 0.1320\n",
      "Epoch 10/30\n",
      "64/64 [==============================] - 0s 2ms/step - loss: 0.1216 - val_loss: 0.1250\n",
      "Epoch 11/30\n",
      "64/64 [==============================] - 0s 2ms/step - loss: 0.1162 - val_loss: 0.1201\n",
      "Epoch 12/30\n",
      "64/64 [==============================] - 0s 2ms/step - loss: 0.1124 - val_loss: 0.1166\n",
      "Epoch 13/30\n",
      "64/64 [==============================] - 0s 2ms/step - loss: 0.1095 - val_loss: 0.1138\n",
      "Epoch 14/30\n",
      "64/64 [==============================] - 0s 2ms/step - loss: 0.1073 - val_loss: 0.1116\n",
      "Epoch 15/30\n",
      "64/64 [==============================] - 0s 2ms/step - loss: 0.1053 - val_loss: 0.1095\n",
      "Epoch 16/30\n",
      "64/64 [==============================] - 0s 2ms/step - loss: 0.1034 - val_loss: 0.1076\n",
      "Epoch 17/30\n",
      "64/64 [==============================] - 0s 2ms/step - loss: 0.1015 - val_loss: 0.1055\n",
      "Epoch 18/30\n",
      "64/64 [==============================] - 0s 2ms/step - loss: 0.0995 - val_loss: 0.1034\n",
      "Epoch 19/30\n",
      "64/64 [==============================] - 0s 2ms/step - loss: 0.0974 - val_loss: 0.1013\n",
      "Epoch 20/30\n",
      "64/64 [==============================] - 0s 2ms/step - loss: 0.0953 - val_loss: 0.0992\n",
      "Epoch 21/30\n",
      "64/64 [==============================] - 0s 2ms/step - loss: 0.0933 - val_loss: 0.0975\n",
      "Epoch 22/30\n",
      "64/64 [==============================] - 0s 2ms/step - loss: 0.0917 - val_loss: 0.0961\n",
      "Epoch 23/30\n",
      "64/64 [==============================] - 0s 2ms/step - loss: 0.0906 - val_loss: 0.0950\n",
      "Epoch 24/30\n",
      "64/64 [==============================] - 0s 2ms/step - loss: 0.0897 - val_loss: 0.0943\n",
      "Epoch 25/30\n",
      "64/64 [==============================] - 0s 2ms/step - loss: 0.0891 - val_loss: 0.0937\n",
      "Epoch 26/30\n",
      "64/64 [==============================] - 0s 2ms/step - loss: 0.0886 - val_loss: 0.0933\n",
      "Epoch 27/30\n",
      "64/64 [==============================] - 0s 2ms/step - loss: 0.0882 - val_loss: 0.0929\n",
      "Epoch 28/30\n",
      "64/64 [==============================] - 0s 2ms/step - loss: 0.0879 - val_loss: 0.0926\n",
      "Epoch 29/30\n",
      "64/64 [==============================] - 0s 2ms/step - loss: 0.0876 - val_loss: 0.0924\n",
      "Epoch 30/30\n",
      "64/64 [==============================] - 0s 2ms/step - loss: 0.0874 - val_loss: 0.0922\n",
      "Model: \"sequential_1\"\n",
      "_________________________________________________________________\n",
      " Layer (type)                Output Shape              Param #   \n",
      "=================================================================\n",
      " dense_4 (Dense)             (None, 2)                 8         \n",
      "                                                                 \n",
      " dense_5 (Dense)             (None, 2)                 6         \n",
      "                                                                 \n",
      " dense_6 (Dense)             (None, 2)                 6         \n",
      "                                                                 \n",
      " dense_7 (Dense)             (None, 3)                 9         \n",
      "                                                                 \n",
      "=================================================================\n",
      "Total params: 29\n",
      "Trainable params: 29\n",
      "Non-trainable params: 0\n",
      "_________________________________________________________________\n"
     ]
    }
   ],
   "source": [
    "from keras import Sequential\n",
    "from keras.layers import Dense\n",
    "from keras.callbacks import EarlyStopping, TensorBoard\n",
    "\n",
    "logdir = path.join(log, datetime.now().strftime(\"%Y%m%d-%H%M%S\"))\n",
    "\n",
    "tensorboard_callback = TensorBoard(log_dir=logdir, histogram_freq=1)\n",
    "\n",
    "aek = Sequential()\n",
    "es = EarlyStopping('val_loss', min_delta=1e-10, patience=100,\n",
    "                       verbose=1, restore_best_weights=True)\n",
    "ndim = X.shape[1]\n",
    "ndim_inter = round(round(ndim**.5))\n",
    "ndim_middle = 2\n",
    "\n",
    "aek.add(Dense(ndim_inter, input_dim=ndim, activation='elu'))\n",
    "aek.add(Dense(ndim_middle,activation='elu'))\n",
    "aek.add(Dense(ndim_inter,activation='elu'))\n",
    "aek.add(Dense(ndim, activation='sigmoid'))\n",
    "aek.compile(optimizer='nadam', loss='mse')\n",
    "history = aek.fit(X_train, X_train, batch_size=10,\n",
    "              epochs=30, verbose=1, callbacks=[es, tensorboard_callback], validation_split=0.2)\n",
    "\n",
    "aek.summary()"
   ]
  },
  {
   "cell_type": "code",
   "execution_count": 15,
   "metadata": {
    "pycharm": {
     "name": "#%%\n"
    }
   },
   "outputs": [
    {
     "data": {
      "text/plain": [
       "Reusing TensorBoard on port 6009 (pid 4964), started 3:58:29 ago. (Use '!kill 4964' to kill it.)"
      ]
     },
     "metadata": {},
     "output_type": "display_data"
    },
    {
     "data": {
      "text/html": [
       "\n",
       "      <iframe id=\"tensorboard-frame-bdd640fb06671ad1\" width=\"100%\" height=\"800\" frameborder=\"0\">\n",
       "      </iframe>\n",
       "      <script>\n",
       "        (function() {\n",
       "          const frame = document.getElementById(\"tensorboard-frame-bdd640fb06671ad1\");\n",
       "          const url = new URL(\"/\", window.location);\n",
       "          const port = 6009;\n",
       "          if (port) {\n",
       "            url.port = port;\n",
       "          }\n",
       "          frame.src = url;\n",
       "        })();\n",
       "      </script>\n",
       "    "
      ],
      "text/plain": [
       "<IPython.core.display.HTML object>"
      ]
     },
     "metadata": {},
     "output_type": "display_data"
    }
   ],
   "source": [
    "%tensorboard --host localhost --port 6009 --logdir $log"
   ]
  },
  {
   "cell_type": "markdown",
   "metadata": {
    "pycharm": {
     "name": "#%% md\n"
    }
   },
   "source": [
    "## 4 - PREDICTION with PRE-TRAINED AUTOENCODERS "
   ]
  },
  {
   "cell_type": "code",
   "execution_count": 18,
   "metadata": {
    "pycharm": {
     "name": "#%%\n"
    }
   },
   "outputs": [
    {
     "data": {
      "application/vnd.jupyter.widget-view+json": {
       "model_id": "715cd937516443cdb3b33736ab9ace68",
       "version_major": 2,
       "version_minor": 0
      },
      "text/plain": [
       "Predicting: 80it [00:00, ?it/s]"
      ]
     },
     "metadata": {},
     "output_type": "display_data"
    }
   ],
   "source": [
    "#Pytorch Lightning\n",
    "#trainer.test(aet, dataloaders=data_loader)\n",
    "#X_test_reduit_torch = cat(trainer.predict(aet, data_loader), axis=0).cpu().numpy()\n",
    "\n",
    "#Pytorch Lightning\n",
    "# trainer.test(aet, dataloaders=data_module)\n",
    "X_test_reduit_torch = trainer.predict(aet, data_loader)\n",
    "X_test_reduit_torch = cat(X_test_reduit_torch, axis=0).cpu().numpy()"
   ]
  },
  {
   "cell_type": "code",
   "execution_count": 19,
   "metadata": {
    "pycharm": {
     "name": "#%%\n"
    }
   },
   "outputs": [],
   "source": [
    "#Tensorflow\n",
    "aeke = Sequential(aek.layers[:-2])\n",
    "X_train_reduit_keras, X_test_reduit_keras = aeke.predict(X_train), aeke.predict(X_test)"
   ]
  },
  {
   "cell_type": "markdown",
   "metadata": {
    "pycharm": {
     "name": "#%% md\n"
    }
   },
   "source": [
    "## 5 - Visualization"
   ]
  },
  {
   "cell_type": "code",
   "execution_count": 1,
   "metadata": {
    "pycharm": {
     "name": "#%%\n"
    },
    "tags": []
   },
   "outputs": [
    {
     "ename": "NameError",
     "evalue": "name 'plt' is not defined",
     "output_type": "error",
     "traceback": [
      "\u001b[1;31m---------------------------------------------------------------------------\u001b[0m",
      "\u001b[1;31mNameError\u001b[0m                                 Traceback (most recent call last)",
      "\u001b[1;32mC:\\Users\\t0208563\\AppData\\Local\\Temp\\ipykernel_2388\\4083373266.py\u001b[0m in \u001b[0;36m<cell line: 1>\u001b[1;34m()\u001b[0m\n\u001b[1;32m----> 1\u001b[1;33m \u001b[0mfig\u001b[0m\u001b[1;33m,\u001b[0m \u001b[1;33m(\u001b[0m\u001b[0max1\u001b[0m\u001b[1;33m,\u001b[0m \u001b[0max2\u001b[0m\u001b[1;33m)\u001b[0m \u001b[1;33m=\u001b[0m \u001b[0mplt\u001b[0m\u001b[1;33m.\u001b[0m\u001b[0msubplots\u001b[0m\u001b[1;33m(\u001b[0m\u001b[1;36m1\u001b[0m\u001b[1;33m,\u001b[0m \u001b[1;36m2\u001b[0m\u001b[1;33m,\u001b[0m \u001b[0mfigsize\u001b[0m\u001b[1;33m=\u001b[0m\u001b[1;33m(\u001b[0m\u001b[1;36m16\u001b[0m\u001b[1;33m,\u001b[0m \u001b[1;36m6\u001b[0m\u001b[1;33m)\u001b[0m\u001b[1;33m)\u001b[0m\u001b[1;33m\u001b[0m\u001b[1;33m\u001b[0m\u001b[0m\n\u001b[0m\u001b[0;32m      2\u001b[0m \u001b[0mko\u001b[0m \u001b[1;33m=\u001b[0m \u001b[0mnp\u001b[0m\u001b[1;33m.\u001b[0m\u001b[0mwhere\u001b[0m\u001b[1;33m(\u001b[0m\u001b[0my_test\u001b[0m\u001b[1;33m==\u001b[0m\u001b[1;36m1\u001b[0m\u001b[1;33m,\u001b[0m \u001b[1;36m1\u001b[0m\u001b[1;33m,\u001b[0m\u001b[1;36m0\u001b[0m\u001b[1;33m)\u001b[0m\u001b[1;33m.\u001b[0m\u001b[0msum\u001b[0m\u001b[1;33m(\u001b[0m\u001b[1;33m)\u001b[0m\u001b[1;33m\u001b[0m\u001b[1;33m\u001b[0m\u001b[0m\n\u001b[0;32m      3\u001b[0m \u001b[0mok\u001b[0m \u001b[1;33m=\u001b[0m \u001b[0mnp\u001b[0m\u001b[1;33m.\u001b[0m\u001b[0mwhere\u001b[0m\u001b[1;33m(\u001b[0m\u001b[0my_test\u001b[0m\u001b[1;33m==\u001b[0m\u001b[1;36m0\u001b[0m\u001b[1;33m,\u001b[0m \u001b[1;36m1\u001b[0m\u001b[1;33m,\u001b[0m\u001b[1;36m0\u001b[0m\u001b[1;33m)\u001b[0m\u001b[1;33m.\u001b[0m\u001b[0msum\u001b[0m\u001b[1;33m(\u001b[0m\u001b[1;33m)\u001b[0m\u001b[1;33m\u001b[0m\u001b[1;33m\u001b[0m\u001b[0m\n\u001b[0;32m      4\u001b[0m \u001b[0my_tst\u001b[0m \u001b[1;33m=\u001b[0m  \u001b[1;33m[\u001b[0m\u001b[1;33m[\u001b[0m\u001b[1;34m'OK'\u001b[0m\u001b[1;33m,\u001b[0m\u001b[1;34m'KO'\u001b[0m\u001b[1;33m]\u001b[0m\u001b[1;33m[\u001b[0m\u001b[0mint\u001b[0m\u001b[1;33m(\u001b[0m\u001b[0mv\u001b[0m\u001b[1;33m)\u001b[0m\u001b[1;33m]\u001b[0m \u001b[1;32mfor\u001b[0m \u001b[0mv\u001b[0m \u001b[1;32min\u001b[0m \u001b[0my_test\u001b[0m\u001b[1;33m]\u001b[0m\u001b[1;33m\u001b[0m\u001b[1;33m\u001b[0m\u001b[0m\n\u001b[0;32m      5\u001b[0m \u001b[1;33m\u001b[0m\u001b[0m\n",
      "\u001b[1;31mNameError\u001b[0m: name 'plt' is not defined"
     ]
    }
   ],
   "source": [
    "fig, (ax1, ax2) = plt.subplots(1, 2, figsize=(16, 6))\n",
    "ko = np.where(y_test==1, 1,0).sum()\n",
    "ok = np.where(y_test==0, 1,0).sum()\n",
    "y_tst =  [['OK','KO'][int(v)] for v in y_test]\n",
    "\n",
    "txt=str(round(100*ko/(ko+ok),1))+'% ('+str(ko)+'/'+str(ok)+')'\n",
    "\n",
    "fig.suptitle(\"CLASSIFICATION OK vs KO = \"+txt)\n",
    "plt.xlabel(\"$pc_1$\")\n",
    "plt.ylabel(\"$pc_2$\")\n",
    "\n",
    "plot(x=X_test_reduit_torch[:,0], y=X_test_reduit_torch[:, 1], hue=y_tst, ec=None, ax=ax1)\n",
    "ax1.set_title(\"Torch\")\n",
    "plot(x=X_test_reduit_keras[:,0], y=X_test_reduit_keras[:, 1], hue=y_tst, ec=None, ax=ax2)\n",
    "ax2.set_title(\"Keras\")"
   ]
  },
  {
   "cell_type": "code",
   "execution_count": null,
   "metadata": {
    "pycharm": {
     "name": "#%%\n"
    }
   },
   "outputs": [],
   "source": []
  }
 ],
 "metadata": {
  "kernelspec": {
   "display_name": "Python 3 (ipykernel)",
   "language": "python",
   "name": "python3"
  },
  "language_info": {
   "codemirror_mode": {
    "name": "ipython",
    "version": 3
   },
   "file_extension": ".py",
   "mimetype": "text/x-python",
   "name": "python",
   "nbconvert_exporter": "python",
   "pygments_lexer": "ipython3",
   "version": "3.10.4"
  },
  "toc-showcode": false
 },
 "nbformat": 4,
 "nbformat_minor": 4
}
